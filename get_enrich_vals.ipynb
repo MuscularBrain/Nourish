{
 "cells": [
  {
   "cell_type": "code",
   "execution_count": 3,
   "id": "dcf086b9",
   "metadata": {},
   "outputs": [],
   "source": [
    "import pandas as pd\n",
    "import geopandas as gpd\n",
    "import numpy as np\n",
    "import docx\n",
    "from arcgis.gis import GIS"
   ]
  },
  {
   "cell_type": "code",
   "execution_count": 4,
   "id": "28d7085f",
   "metadata": {},
   "outputs": [],
   "source": [
    "from arcgis.geoenrichment import enrich, Country"
   ]
  },
  {
   "cell_type": "code",
   "execution_count": 5,
   "id": "673bd59f",
   "metadata": {},
   "outputs": [],
   "source": [
    "# init GIS connection\n",
    "with open(\"agol_account_info.txt\", \"r\") as f:\n",
    "    url, username, password = f.read().splitlines()"
   ]
  },
  {
   "cell_type": "code",
   "execution_count": 6,
   "id": "abfe18a0",
   "metadata": {},
   "outputs": [],
   "source": [
    "gis = GIS(url, username=username, password=password)"
   ]
  },
  {
   "cell_type": "code",
   "execution_count": 11,
   "id": "0c6d4e67",
   "metadata": {},
   "outputs": [],
   "source": [
    "def get_enrich_vals(gis, enrich_val_doc_path):\n",
    "    \"\"\"\n",
    "    return dataframe: geoenrich-able variables in ESRI acceptable format\n",
    "    \"\"\"\n",
    "    usa = Country('usa')\n",
    "    ev_df = usa.enrich_variables\n",
    "    \n",
    "    # grab the long document by Ilya\n",
    "    doc = docx.Document(enrich_val_doc_path)\n",
    "    doc_lst = [p.text for p in doc.paragraphs][3:-2]\n",
    "    \n",
    "    out_idx_lst = []\n",
    "    empty_txt = []\n",
    "    \n",
    "    \n",
    "    def get_val(ev_df, txt, vintage_year=None):\n",
    "        \"\"\"\n",
    "        helper to get list of index with description text\n",
    "        \"\"\"\n",
    "        def get_year_bool(vintage_year, x):\n",
    "            \"\"\"\n",
    "            return boolean: if vintage_year is in description text\n",
    "            True if no vintage_year is provided\n",
    "            \"\"\"\n",
    "            if vintage_year:\n",
    "                return vintage_year in x\n",
    "            else:\n",
    "                return True\n",
    "            \n",
    "        return ev_df[ev_df.description.apply(\n",
    "            lambda x: txt in x.lower() and get_year_bool(vintage_year, x) if x is not None else False)].index.tolist()\n",
    "    \n",
    "    for corpus in doc_lst:\n",
    "        cur_idx_lst = get_val(ev_df, corpus.lower())\n",
    "        if len(cur_idx_lst) == 0:\n",
    "            ### only used in inspection purpose\n",
    "            empty_txt.append(corpus)\n",
    "        else:\n",
    "            out_idx_lst += cur_idx_lst\n",
    "    \n",
    "    # pop age, pop ethnicity, pop tapestry \n",
    "    # total housing units, housing price average, affordability index, housing while attending school, etc.\n",
    "    # unemployment rate and by ethnicity group\n",
    "    # average household income, by group\n",
    "    # food stamp recieving/not-recieving\n",
    "    description_kws = [\"population\", \"tapestry\", \"housing\", \"unemployment\", \"average household income\", \"food stamp\"]\n",
    "    for dkw in description_kws:\n",
    "        out_idx_lst += get_val(ev_df, dkw, \"2024\")\n",
    "        \n",
    "        \n",
    "    # food related data collection\n",
    "    ev_df_food = ev_df[ev_df.data_collection.apply(lambda x: x in ['food', 'PsychographicsFood', 'GroceryAlcoholicBeverages'])]\n",
    "    \n",
    "    out_idx_lst += ev_df_food[ev_df_food.apply(\n",
    "        lambda row: row['data_collection'] == 'food' and row['vintage'] == '2024', axis=1)].index.tolist()\n",
    "    \n",
    "    # hh used, bread in past 30 days, etc.\n",
    "    # food store\n",
    "    # buy many units if food item on sale\n",
    "    # restaurant related\n",
    "    description_kws = [\"hh used\", \"food store\", \"food item on sale\", \"restaurant\"]\n",
    "    for dkw in description_kws:\n",
    "        out_idx_lst += get_val(ev_df_food, dkw, \"2024\")\n",
    "        \n",
    "    # trends in food, projected 2029\n",
    "    for dkw in description_kws:\n",
    "        out_idx_lst += get_val(ev_df_food, dkw, \"2029\")\n",
    "    \n",
    "    out_idx_lst += ev_df_food[ev_df_food.apply(\n",
    "        lambda row: row['data_collection'] == 'food' and row['vintage'] == '2029', axis=1)].index.tolist()\n",
    "    \n",
    "    # crime\n",
    "    out_idx_lst += ev_df[ev_df['data_collection'] == 'crime'].index.tolist()\n",
    "    \n",
    "    # ony interesting ones are \"2024 Like Eating Foods from Different Cultures\"\n",
    "    out_idx_lst += ev_df[ev_df.description.apply(\n",
    "        lambda x: \"cultur\" in x.lower() and 'agricultur' not in x.lower() if x is not None else False)].index.tolist()\n",
    "    \n",
    "    ########################### NEED OUTSIDE LAYER, NOT FOUND ###########################\n",
    "    # null, drove alone to work\n",
    "    # null, rental property price, the below finds only home/vacation home property price\n",
    "    # null, foreign-born\n",
    "    # 'Zoning laws and other regulations ',\n",
    "    # 'zoning map from SANDAG',\n",
    "    # 'Access to suppliers',\n",
    "    # 'proximity to highways and distribution centers (in urban areas); proximity to farms (in rural areas) - need to find relevant layers',\n",
    "    # Availability of infrastructure (water, electricity, internet, etc.) including maps of utilities'\n",
    "    #####################################################################################\n",
    "    \n",
    "    kv_df = ev_df.loc[set(out_idx_lst)].drop_duplicates(subset=['name'])\n",
    "    \n",
    "    return kv_df"
   ]
  },
  {
   "cell_type": "code",
   "execution_count": null,
   "id": "a23d357b",
   "metadata": {},
   "outputs": [],
   "source": []
  },
  {
   "cell_type": "code",
   "execution_count": 12,
   "id": "eec31c29",
   "metadata": {},
   "outputs": [],
   "source": [
    "kv_df = get_enrich_vals(gis, f\"Opportunities Map Process.docx\")"
   ]
  },
  {
   "cell_type": "code",
   "execution_count": 2,
   "id": "8fdea0de",
   "metadata": {},
   "outputs": [],
   "source": [
    "#enrich_out = usa.enrich(imp_sd_bg_sedf, kv_df)"
   ]
  },
  {
   "cell_type": "code",
   "execution_count": null,
   "id": "cc3c738c",
   "metadata": {},
   "outputs": [],
   "source": []
  },
  {
   "cell_type": "code",
   "execution_count": 18,
   "id": "aa6e0b8c",
   "metadata": {},
   "outputs": [],
   "source": [
    "### read geojson from url\n",
    "# San Diego Public Law Beats Data\n",
    "url = \"https://opendata.sandag.org/resource/7p9e-ppq2.geojson\"\n",
    "gdf = gpd.read_file(url)"
   ]
  },
  {
   "cell_type": "code",
   "execution_count": 20,
   "id": "cef95f18",
   "metadata": {},
   "outputs": [
    {
     "data": {
      "text/plain": [
       "<Geographic 2D CRS: EPSG:4326>\n",
       "Name: WGS 84\n",
       "Axis Info [ellipsoidal]:\n",
       "- Lat[north]: Geodetic latitude (degree)\n",
       "- Lon[east]: Geodetic longitude (degree)\n",
       "Area of Use:\n",
       "- name: World.\n",
       "- bounds: (-180.0, -90.0, 180.0, 90.0)\n",
       "Datum: World Geodetic System 1984 ensemble\n",
       "- Ellipsoid: WGS 84\n",
       "- Prime Meridian: Greenwich"
      ]
     },
     "execution_count": 20,
     "metadata": {},
     "output_type": "execute_result"
    }
   ],
   "source": [
    "gdf.crs"
   ]
  },
  {
   "cell_type": "code",
   "execution_count": null,
   "id": "799da359",
   "metadata": {},
   "outputs": [],
   "source": []
  }
 ],
 "metadata": {
  "kernelspec": {
   "display_name": "Python [conda env:.conda-arcgis_spatial] *",
   "language": "python",
   "name": "conda-env-.conda-arcgis_spatial-py"
  },
  "language_info": {
   "codemirror_mode": {
    "name": "ipython",
    "version": 3
   },
   "file_extension": ".py",
   "mimetype": "text/x-python",
   "name": "python",
   "nbconvert_exporter": "python",
   "pygments_lexer": "ipython3",
   "version": "3.9.11"
  }
 },
 "nbformat": 4,
 "nbformat_minor": 5
}
