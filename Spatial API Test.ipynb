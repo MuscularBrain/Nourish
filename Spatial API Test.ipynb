{
 "cells": [
  {
   "cell_type": "code",
   "execution_count": 1,
   "id": "3a8ab2d3",
   "metadata": {},
   "outputs": [],
   "source": [
    "from matplotlib import pyplot as plt"
   ]
  },
  {
   "cell_type": "code",
   "execution_count": 2,
   "id": "c06c034b",
   "metadata": {},
   "outputs": [],
   "source": [
    "import pandas as pd\n",
    "import copy\n",
    "import json\n",
    "import geopandas as gpd"
   ]
  },
  {
   "cell_type": "code",
   "execution_count": 3,
   "id": "d6250a4c",
   "metadata": {},
   "outputs": [],
   "source": [
    "from arcgis.gis import GIS"
   ]
  },
  {
   "cell_type": "code",
   "execution_count": 4,
   "id": "c7aea8b6",
   "metadata": {},
   "outputs": [],
   "source": [
    "from arcgis import geocode"
   ]
  },
  {
   "cell_type": "code",
   "execution_count": 93,
   "id": "e41d6bd5",
   "metadata": {},
   "outputs": [],
   "source": [
    "from arcgis.geoenrichment import enrich, Country"
   ]
  },
  {
   "cell_type": "code",
   "execution_count": 81,
   "id": "5630aa58",
   "metadata": {},
   "outputs": [],
   "source": [
    "from arcgis.geometry import BaseGeometry, Geometry\n",
    "@classmethod\n",
    "def from_shapely(cls, shapely_geometry):\n",
    "    return cls(shapely_geometry.__geo_interface__)\n",
    "\n",
    "BaseGeometry.from_shapely = from_shapely"
   ]
  },
  {
   "cell_type": "code",
   "execution_count": 5,
   "id": "3e0bebee",
   "metadata": {},
   "outputs": [],
   "source": [
    "# init GIS connection\n",
    "with open(\"agol_account_info.txt\", \"r\") as f:\n",
    "    url, username, password = f.read().splitlines()"
   ]
  },
  {
   "cell_type": "code",
   "execution_count": 6,
   "id": "a49d61f9",
   "metadata": {},
   "outputs": [],
   "source": [
    "gis = GIS(url, username=username, password=password)"
   ]
  },
  {
   "cell_type": "code",
   "execution_count": 7,
   "id": "47deb5c5",
   "metadata": {},
   "outputs": [],
   "source": [
    "# init llm connection\n",
    "with open(\"openai_api_key\", \"r\") as f:\n",
    "    MY_API_KEY = f.readline()"
   ]
  },
  {
   "cell_type": "code",
   "execution_count": 8,
   "id": "5cb83cd7",
   "metadata": {},
   "outputs": [],
   "source": [
    "import openai\n",
    "from keybert.llm import OpenAI\n",
    "from keybert import KeyLLM\n",
    "\n",
    "# Create your LLM\n",
    "client = openai.OpenAI(api_key=MY_API_KEY)\n",
    "llm = OpenAI(client)\n",
    "\n",
    "# Load it in KeyLLM\n",
    "kw_model = KeyLLM(llm)"
   ]
  },
  {
   "cell_type": "code",
   "execution_count": 9,
   "id": "27e2dd13",
   "metadata": {},
   "outputs": [],
   "source": [
    "import psycopg2"
   ]
  },
  {
   "cell_type": "code",
   "execution_count": 10,
   "id": "144a7aab",
   "metadata": {},
   "outputs": [],
   "source": [
    "# init db connection\n",
    "with open(\"awesome_db_key\", \"r\") as f:\n",
    "    database, host, user, password, port = f.read().splitlines()"
   ]
  },
  {
   "cell_type": "code",
   "execution_count": 11,
   "id": "dc0a78ba",
   "metadata": {},
   "outputs": [],
   "source": [
    "conn = psycopg2.connect(database=database,\n",
    "                        host=host,\n",
    "                        user=user,\n",
    "                        password=password,\n",
    "                        port=port)"
   ]
  },
  {
   "cell_type": "code",
   "execution_count": 12,
   "id": "2bd204d1",
   "metadata": {},
   "outputs": [],
   "source": [
    "cursor = conn.cursor()"
   ]
  },
  {
   "cell_type": "code",
   "execution_count": 13,
   "id": "aabcfbc8",
   "metadata": {},
   "outputs": [],
   "source": [
    "# this is small enough to fetch all, bad practice\n",
    "cursor.execute(\"\"\"\n",
    "SELECT id, city, community, zipcodes FROM public.community_neighborhoods\n",
    "ORDER BY id ASC \n",
    "\"\"\")\n",
    "db_out = cursor.fetchall()\n"
   ]
  },
  {
   "cell_type": "code",
   "execution_count": 14,
   "id": "751872e6",
   "metadata": {},
   "outputs": [],
   "source": [
    "community_neighborhoods_df = pd.DataFrame(db_out, columns =[\"id\", \"city\", \"community\", \"zipcodes\"])"
   ]
  },
  {
   "cell_type": "code",
   "execution_count": 15,
   "id": "b416076d",
   "metadata": {},
   "outputs": [
    {
     "data": {
      "text/html": [
       "<div>\n",
       "<style scoped>\n",
       "    .dataframe tbody tr th:only-of-type {\n",
       "        vertical-align: middle;\n",
       "    }\n",
       "\n",
       "    .dataframe tbody tr th {\n",
       "        vertical-align: top;\n",
       "    }\n",
       "\n",
       "    .dataframe thead th {\n",
       "        text-align: right;\n",
       "    }\n",
       "</style>\n",
       "<table border=\"1\" class=\"dataframe\">\n",
       "  <thead>\n",
       "    <tr style=\"text-align: right;\">\n",
       "      <th></th>\n",
       "      <th>id</th>\n",
       "      <th>city</th>\n",
       "      <th>community</th>\n",
       "      <th>zipcodes</th>\n",
       "    </tr>\n",
       "  </thead>\n",
       "  <tbody>\n",
       "    <tr>\n",
       "      <th>0</th>\n",
       "      <td>1</td>\n",
       "      <td>San Diego</td>\n",
       "      <td>Adams North</td>\n",
       "      <td>[92108, 92116]</td>\n",
       "    </tr>\n",
       "    <tr>\n",
       "      <th>1</th>\n",
       "      <td>2</td>\n",
       "      <td>San Diego</td>\n",
       "      <td>Allied Gardens</td>\n",
       "      <td>[92120]</td>\n",
       "    </tr>\n",
       "    <tr>\n",
       "      <th>2</th>\n",
       "      <td>3</td>\n",
       "      <td>San Diego</td>\n",
       "      <td>Alta Vista</td>\n",
       "      <td>[91950, 92114]</td>\n",
       "    </tr>\n",
       "    <tr>\n",
       "      <th>3</th>\n",
       "      <td>4</td>\n",
       "      <td>San Diego</td>\n",
       "      <td>Amphitheater and Water Park</td>\n",
       "      <td>[92154]</td>\n",
       "    </tr>\n",
       "    <tr>\n",
       "      <th>4</th>\n",
       "      <td>5</td>\n",
       "      <td>San Diego</td>\n",
       "      <td>Azalea-Hollywood Park</td>\n",
       "      <td>None</td>\n",
       "    </tr>\n",
       "    <tr>\n",
       "      <th>...</th>\n",
       "      <td>...</td>\n",
       "      <td>...</td>\n",
       "      <td>...</td>\n",
       "      <td>...</td>\n",
       "    </tr>\n",
       "    <tr>\n",
       "      <th>224</th>\n",
       "      <td>443</td>\n",
       "      <td>San Marcos</td>\n",
       "      <td>Rancho La Costa</td>\n",
       "      <td>[92009, 92011, 92078]</td>\n",
       "    </tr>\n",
       "    <tr>\n",
       "      <th>225</th>\n",
       "      <td>451</td>\n",
       "      <td>Imperial Beach</td>\n",
       "      <td>Egger Highlands</td>\n",
       "      <td>[91911, 91932, 92154]</td>\n",
       "    </tr>\n",
       "    <tr>\n",
       "      <th>226</th>\n",
       "      <td>453</td>\n",
       "      <td>Imperial Beach</td>\n",
       "      <td>Tijuana River Valley</td>\n",
       "      <td>[92154, 92173]</td>\n",
       "    </tr>\n",
       "    <tr>\n",
       "      <th>227</th>\n",
       "      <td>458</td>\n",
       "      <td>La Presa</td>\n",
       "      <td>Jomacha Lomita</td>\n",
       "      <td>[91945, 91977, 92114]</td>\n",
       "    </tr>\n",
       "    <tr>\n",
       "      <th>228</th>\n",
       "      <td>459</td>\n",
       "      <td>La Presa</td>\n",
       "      <td>Skyline</td>\n",
       "      <td>[91977, 92114]</td>\n",
       "    </tr>\n",
       "  </tbody>\n",
       "</table>\n",
       "<p>229 rows × 4 columns</p>\n",
       "</div>"
      ],
      "text/plain": [
       "      id            city                    community               zipcodes\n",
       "0      1       San Diego                  Adams North         [92108, 92116]\n",
       "1      2       San Diego               Allied Gardens                [92120]\n",
       "2      3       San Diego                   Alta Vista         [91950, 92114]\n",
       "3      4       San Diego  Amphitheater and Water Park                [92154]\n",
       "4      5       San Diego        Azalea-Hollywood Park                   None\n",
       "..   ...             ...                          ...                    ...\n",
       "224  443      San Marcos              Rancho La Costa  [92009, 92011, 92078]\n",
       "225  451  Imperial Beach              Egger Highlands  [91911, 91932, 92154]\n",
       "226  453  Imperial Beach         Tijuana River Valley         [92154, 92173]\n",
       "227  458        La Presa               Jomacha Lomita  [91945, 91977, 92114]\n",
       "228  459        La Presa                      Skyline         [91977, 92114]\n",
       "\n",
       "[229 rows x 4 columns]"
      ]
     },
     "execution_count": 15,
     "metadata": {},
     "output_type": "execute_result"
    }
   ],
   "source": [
    "community_neighborhoods_df"
   ]
  },
  {
   "cell_type": "code",
   "execution_count": 16,
   "id": "1562ab44",
   "metadata": {},
   "outputs": [
    {
     "data": {
      "text/html": [
       "<div>\n",
       "<style scoped>\n",
       "    .dataframe tbody tr th:only-of-type {\n",
       "        vertical-align: middle;\n",
       "    }\n",
       "\n",
       "    .dataframe tbody tr th {\n",
       "        vertical-align: top;\n",
       "    }\n",
       "\n",
       "    .dataframe thead th {\n",
       "        text-align: right;\n",
       "    }\n",
       "</style>\n",
       "<table border=\"1\" class=\"dataframe\">\n",
       "  <thead>\n",
       "    <tr style=\"text-align: right;\">\n",
       "      <th></th>\n",
       "      <th>id</th>\n",
       "      <th>city</th>\n",
       "      <th>community</th>\n",
       "      <th>zipcodes</th>\n",
       "    </tr>\n",
       "  </thead>\n",
       "  <tbody>\n",
       "  </tbody>\n",
       "</table>\n",
       "</div>"
      ],
      "text/plain": [
       "Empty DataFrame\n",
       "Columns: [id, city, community, zipcodes]\n",
       "Index: []"
      ]
     },
     "execution_count": 16,
     "metadata": {},
     "output_type": "execute_result"
    }
   ],
   "source": [
    "community_neighborhoods_df[community_neighborhoods_df.apply(lambda row: 'Location'.lower() in row['community'].lower(), axis = 1)]"
   ]
  },
  {
   "cell_type": "code",
   "execution_count": 59,
   "id": "d861520e",
   "metadata": {},
   "outputs": [],
   "source": [
    "stop_words = ['region', 'location', 'geographical location', 'street', 'streets', 'landmarks', 'area', 'part']"
   ]
  },
  {
   "cell_type": "markdown",
   "id": "fd0f1c34",
   "metadata": {},
   "source": [
    "## 0 community"
   ]
  },
  {
   "cell_type": "code",
   "execution_count": 18,
   "id": "b8c1c897",
   "metadata": {},
   "outputs": [],
   "source": [
    "e1, e2 = \"south Del Mar\", \"northern part of Carmel Valley\""
   ]
  },
  {
   "cell_type": "code",
   "execution_count": 21,
   "id": "008d2374",
   "metadata": {},
   "outputs": [],
   "source": [
    "# Extract keywords\n",
    "keywords = kw_model.extract_keywords(e2)[0]"
   ]
  },
  {
   "cell_type": "code",
   "execution_count": 22,
   "id": "cbf310a7",
   "metadata": {},
   "outputs": [
    {
     "data": {
      "text/plain": [
       "['Northern', 'Carmel Valley', 'Location', 'Geographical region']"
      ]
     },
     "execution_count": 22,
     "metadata": {},
     "output_type": "execute_result"
    }
   ],
   "source": [
    "keywords"
   ]
  },
  {
   "cell_type": "code",
   "execution_count": 23,
   "id": "c10b1821",
   "metadata": {},
   "outputs": [],
   "source": [
    "directional_predictates = ['north', 'south', 'west', 'east']"
   ]
  },
  {
   "cell_type": "code",
   "execution_count": 24,
   "id": "b883c1f8",
   "metadata": {},
   "outputs": [],
   "source": [
    "dw_out = []\n",
    "community_out = []\n",
    "for kw in copy.deepcopy(keywords):\n",
    "    for dw in directional_predictates:\n",
    "        if dw in kw.lower():\n",
    "            dw_out.append(dw)\n",
    "            keywords.remove(kw)\n",
    "\n",
    "\n",
    "for kw in keywords:    \n",
    "    kw_community = community_neighborhoods_df[\n",
    "        community_neighborhoods_df.apply(\n",
    "            lambda row: kw.lower() in row['community'].lower(), \n",
    "            axis = 1)\n",
    "    ]\n",
    "    if len(kw_community):\n",
    "        community_out.append(kw)\n"
   ]
  },
  {
   "cell_type": "code",
   "execution_count": 25,
   "id": "3895402d",
   "metadata": {},
   "outputs": [
    {
     "data": {
      "text/plain": [
       "['north']"
      ]
     },
     "execution_count": 25,
     "metadata": {},
     "output_type": "execute_result"
    }
   ],
   "source": [
    "dw_out"
   ]
  },
  {
   "cell_type": "code",
   "execution_count": 26,
   "id": "ef61cbb3",
   "metadata": {},
   "outputs": [
    {
     "data": {
      "text/plain": [
       "['Carmel Valley']"
      ]
     },
     "execution_count": 26,
     "metadata": {},
     "output_type": "execute_result"
    }
   ],
   "source": [
    "community_out"
   ]
  },
  {
   "cell_type": "code",
   "execution_count": 27,
   "id": "26e485b0",
   "metadata": {},
   "outputs": [],
   "source": [
    "geocode_out = []\n",
    "for kw in community_out:\n",
    "    geocode_out.append(geocode(address = kw, max_locations = 10))"
   ]
  },
  {
   "cell_type": "code",
   "execution_count": null,
   "id": "0002b64f",
   "metadata": {},
   "outputs": [],
   "source": []
  },
  {
   "cell_type": "code",
   "execution_count": 28,
   "id": "2ee49bc0",
   "metadata": {},
   "outputs": [
    {
     "data": {
      "text/plain": [
       "[{'address': 'Carmel Valley, California',\n",
       "  'location': {'x': -121.731518, 'y': 36.479342},\n",
       "  'score': 100,\n",
       "  'attributes': {'Loc_name': 'World',\n",
       "   'Status': 'T',\n",
       "   'Score': 100,\n",
       "   'Match_addr': 'Carmel Valley, California',\n",
       "   'LongLabel': 'Carmel Valley, CA, USA',\n",
       "   'ShortLabel': 'Carmel Valley',\n",
       "   'Addr_type': 'Locality',\n",
       "   'Type': 'City',\n",
       "   'PlaceName': 'Carmel Valley',\n",
       "   'Place_addr': 'Carmel Valley, California',\n",
       "   'Phone': '',\n",
       "   'URL': '',\n",
       "   'Rank': 11.73,\n",
       "   'AddBldg': '',\n",
       "   'AddNum': '',\n",
       "   'AddNumFrom': '',\n",
       "   'AddNumTo': '',\n",
       "   'AddRange': '',\n",
       "   'Side': '',\n",
       "   'StPreDir': '',\n",
       "   'StPreType': '',\n",
       "   'StName': '',\n",
       "   'StType': '',\n",
       "   'StDir': '',\n",
       "   'BldgType': '',\n",
       "   'BldgName': '',\n",
       "   'LevelType': '',\n",
       "   'LevelName': '',\n",
       "   'UnitType': '',\n",
       "   'UnitName': '',\n",
       "   'SubAddr': '',\n",
       "   'StAddr': '',\n",
       "   'Block': '',\n",
       "   'Sector': '',\n",
       "   'Nbrhd': '',\n",
       "   'District': '',\n",
       "   'City': 'Carmel Valley',\n",
       "   'MetroArea': '',\n",
       "   'Subregion': 'Monterey County',\n",
       "   'Region': 'California',\n",
       "   'RegionAbbr': 'CA',\n",
       "   'Territory': '',\n",
       "   'Zone': '',\n",
       "   'Postal': '',\n",
       "   'PostalExt': '',\n",
       "   'Country': 'USA',\n",
       "   'CntryName': 'United States',\n",
       "   'LangCode': 'ENG',\n",
       "   'Distance': 0,\n",
       "   'X': -121.731518,\n",
       "   'Y': 36.479342,\n",
       "   'DisplayX': -121.731518,\n",
       "   'DisplayY': 36.479342,\n",
       "   'Xmin': -121.883518,\n",
       "   'Xmax': -121.579518,\n",
       "   'Ymin': 36.327342,\n",
       "   'Ymax': 36.631342,\n",
       "   'ExInfo': ''},\n",
       "  'extent': {'xmin': -121.883518,\n",
       "   'ymin': 36.327342,\n",
       "   'xmax': -121.579518,\n",
       "   'ymax': 36.631342}},\n",
       " {'address': 'Carmel Valley, San Diego, California',\n",
       "  'location': {'x': -117.202217, 'y': 32.933556},\n",
       "  'score': 100,\n",
       "  'attributes': {'Loc_name': 'World',\n",
       "   'Status': 'T',\n",
       "   'Score': 100,\n",
       "   'Match_addr': 'Carmel Valley, San Diego, California',\n",
       "   'LongLabel': 'Carmel Valley, San Diego, CA, USA',\n",
       "   'ShortLabel': 'Carmel Valley',\n",
       "   'Addr_type': 'Locality',\n",
       "   'Type': 'Neighborhood',\n",
       "   'PlaceName': 'Carmel Valley',\n",
       "   'Place_addr': 'San Diego, California',\n",
       "   'Phone': '',\n",
       "   'URL': '',\n",
       "   'Rank': 13.5,\n",
       "   'AddBldg': '',\n",
       "   'AddNum': '',\n",
       "   'AddNumFrom': '',\n",
       "   'AddNumTo': '',\n",
       "   'AddRange': '',\n",
       "   'Side': '',\n",
       "   'StPreDir': '',\n",
       "   'StPreType': '',\n",
       "   'StName': '',\n",
       "   'StType': '',\n",
       "   'StDir': '',\n",
       "   'BldgType': '',\n",
       "   'BldgName': '',\n",
       "   'LevelType': '',\n",
       "   'LevelName': '',\n",
       "   'UnitType': '',\n",
       "   'UnitName': '',\n",
       "   'SubAddr': '',\n",
       "   'StAddr': '',\n",
       "   'Block': '',\n",
       "   'Sector': '',\n",
       "   'Nbrhd': 'Carmel Valley',\n",
       "   'District': '',\n",
       "   'City': 'San Diego',\n",
       "   'MetroArea': '',\n",
       "   'Subregion': 'San Diego County',\n",
       "   'Region': 'California',\n",
       "   'RegionAbbr': 'CA',\n",
       "   'Territory': '',\n",
       "   'Zone': '',\n",
       "   'Postal': '',\n",
       "   'PostalExt': '',\n",
       "   'Country': 'USA',\n",
       "   'CntryName': 'United States',\n",
       "   'LangCode': 'ENG',\n",
       "   'Distance': 0,\n",
       "   'X': -117.202217,\n",
       "   'Y': 32.933556,\n",
       "   'DisplayX': -117.202217,\n",
       "   'DisplayY': 32.933556,\n",
       "   'Xmin': -117.237217,\n",
       "   'Xmax': -117.167217,\n",
       "   'Ymin': 32.898556,\n",
       "   'Ymax': 32.968556,\n",
       "   'ExInfo': ''},\n",
       "  'extent': {'xmin': -117.237217,\n",
       "   'ymin': 32.898556,\n",
       "   'xmax': -117.167217,\n",
       "   'ymax': 32.968556}},\n",
       " {'address': 'Carmel Valley',\n",
       "  'location': {'x': -121.732131, 'y': 36.478416},\n",
       "  'score': 100,\n",
       "  'attributes': {'Loc_name': 'World',\n",
       "   'Status': 'M',\n",
       "   'Score': 100,\n",
       "   'Match_addr': 'Carmel Valley',\n",
       "   'LongLabel': 'Carmel Valley, 13766 Center St, Ste 2, Carmel Valley, CA, 93924, USA',\n",
       "   'ShortLabel': 'Carmel Valley',\n",
       "   'Addr_type': 'POI',\n",
       "   'Type': 'Other Shops and Service',\n",
       "   'PlaceName': 'Carmel Valley',\n",
       "   'Place_addr': '13766 Center St, Ste 2, Carmel Valley, California, 93924',\n",
       "   'Phone': '(831) 659-9101',\n",
       "   'URL': '',\n",
       "   'Rank': 19,\n",
       "   'AddBldg': '',\n",
       "   'AddNum': '13766',\n",
       "   'AddNumFrom': '',\n",
       "   'AddNumTo': '',\n",
       "   'AddRange': '',\n",
       "   'Side': '',\n",
       "   'StPreDir': '',\n",
       "   'StPreType': '',\n",
       "   'StName': 'Center',\n",
       "   'StType': 'St',\n",
       "   'StDir': '',\n",
       "   'BldgType': '',\n",
       "   'BldgName': '',\n",
       "   'LevelType': '',\n",
       "   'LevelName': '',\n",
       "   'UnitType': 'Ste',\n",
       "   'UnitName': '2',\n",
       "   'SubAddr': 'Ste 2',\n",
       "   'StAddr': '13766 Center St',\n",
       "   'Block': '',\n",
       "   'Sector': '',\n",
       "   'Nbrhd': '',\n",
       "   'District': '',\n",
       "   'City': 'Carmel Valley',\n",
       "   'MetroArea': '',\n",
       "   'Subregion': 'Monterey County',\n",
       "   'Region': 'California',\n",
       "   'RegionAbbr': 'CA',\n",
       "   'Territory': '',\n",
       "   'Zone': '',\n",
       "   'Postal': '93924',\n",
       "   'PostalExt': '',\n",
       "   'Country': 'USA',\n",
       "   'CntryName': 'United States',\n",
       "   'LangCode': 'ENG',\n",
       "   'Distance': 0,\n",
       "   'X': -121.732131,\n",
       "   'Y': 36.478416,\n",
       "   'DisplayX': -121.732131,\n",
       "   'DisplayY': 36.478416,\n",
       "   'Xmin': -121.733131,\n",
       "   'Xmax': -121.731131,\n",
       "   'Ymin': 36.477416,\n",
       "   'Ymax': 36.479416,\n",
       "   'ExInfo': ''},\n",
       "  'extent': {'xmin': -121.733131,\n",
       "   'ymin': 36.477416,\n",
       "   'xmax': -121.731131,\n",
       "   'ymax': 36.479416}},\n",
       " {'address': 'Carmel Valley, Carmel Valley Village, California',\n",
       "  'location': {'x': -121.73245, 'y': 36.47968},\n",
       "  'score': 100,\n",
       "  'attributes': {'Loc_name': 'World',\n",
       "   'Status': 'T',\n",
       "   'Score': 100,\n",
       "   'Match_addr': 'Carmel Valley, Carmel Valley Village, California',\n",
       "   'LongLabel': 'Carmel Valley, Carmel Valley Village, CA, USA',\n",
       "   'ShortLabel': 'Carmel Valley',\n",
       "   'Addr_type': 'Locality',\n",
       "   'Type': 'City',\n",
       "   'PlaceName': 'Carmel Valley',\n",
       "   'Place_addr': 'Carmel Valley Village, California',\n",
       "   'Phone': '',\n",
       "   'URL': '',\n",
       "   'Rank': 20,\n",
       "   'AddBldg': '',\n",
       "   'AddNum': '',\n",
       "   'AddNumFrom': '',\n",
       "   'AddNumTo': '',\n",
       "   'AddRange': '',\n",
       "   'Side': '',\n",
       "   'StPreDir': '',\n",
       "   'StPreType': '',\n",
       "   'StName': '',\n",
       "   'StType': '',\n",
       "   'StDir': '',\n",
       "   'BldgType': '',\n",
       "   'BldgName': '',\n",
       "   'LevelType': '',\n",
       "   'LevelName': '',\n",
       "   'UnitType': '',\n",
       "   'UnitName': '',\n",
       "   'SubAddr': '',\n",
       "   'StAddr': '',\n",
       "   'Block': '',\n",
       "   'Sector': '',\n",
       "   'Nbrhd': '',\n",
       "   'District': 'Carmel Valley',\n",
       "   'City': 'Carmel Valley Village',\n",
       "   'MetroArea': '',\n",
       "   'Subregion': 'Monterey County',\n",
       "   'Region': 'California',\n",
       "   'RegionAbbr': 'CA',\n",
       "   'Territory': '',\n",
       "   'Zone': '',\n",
       "   'Postal': '',\n",
       "   'PostalExt': '',\n",
       "   'Country': 'USA',\n",
       "   'CntryName': 'United States',\n",
       "   'LangCode': 'ENG',\n",
       "   'Distance': 0,\n",
       "   'X': -121.73245,\n",
       "   'Y': 36.47968,\n",
       "   'DisplayX': -121.73245,\n",
       "   'DisplayY': 36.47968,\n",
       "   'Xmin': -121.74345,\n",
       "   'Xmax': -121.72145,\n",
       "   'Ymin': 36.46868,\n",
       "   'Ymax': 36.49068,\n",
       "   'ExInfo': ''},\n",
       "  'extent': {'xmin': -121.74345,\n",
       "   'ymin': 36.46868,\n",
       "   'xmax': -121.72145,\n",
       "   'ymax': 36.49068}},\n",
       " {'address': 'Carmel Valley, San Diego, California',\n",
       "  'location': {'x': -117.22034, 'y': 32.94433},\n",
       "  'score': 100,\n",
       "  'attributes': {'Loc_name': 'World',\n",
       "   'Status': 'T',\n",
       "   'Score': 100,\n",
       "   'Match_addr': 'Carmel Valley, San Diego, California',\n",
       "   'LongLabel': 'Carmel Valley, San Diego, CA, USA',\n",
       "   'ShortLabel': 'Carmel Valley',\n",
       "   'Addr_type': 'Locality',\n",
       "   'Type': 'Neighborhood',\n",
       "   'PlaceName': 'Carmel Valley',\n",
       "   'Place_addr': 'San Diego, California',\n",
       "   'Phone': '',\n",
       "   'URL': '',\n",
       "   'Rank': 20,\n",
       "   'AddBldg': '',\n",
       "   'AddNum': '',\n",
       "   'AddNumFrom': '',\n",
       "   'AddNumTo': '',\n",
       "   'AddRange': '',\n",
       "   'Side': '',\n",
       "   'StPreDir': '',\n",
       "   'StPreType': '',\n",
       "   'StName': '',\n",
       "   'StType': '',\n",
       "   'StDir': '',\n",
       "   'BldgType': '',\n",
       "   'BldgName': '',\n",
       "   'LevelType': '',\n",
       "   'LevelName': '',\n",
       "   'UnitType': '',\n",
       "   'UnitName': '',\n",
       "   'SubAddr': '',\n",
       "   'StAddr': '',\n",
       "   'Block': '',\n",
       "   'Sector': '',\n",
       "   'Nbrhd': 'Carmel Valley',\n",
       "   'District': '',\n",
       "   'City': 'San Diego',\n",
       "   'MetroArea': '',\n",
       "   'Subregion': 'San Diego County',\n",
       "   'Region': 'California',\n",
       "   'RegionAbbr': 'CA',\n",
       "   'Territory': '',\n",
       "   'Zone': '',\n",
       "   'Postal': '',\n",
       "   'PostalExt': '',\n",
       "   'Country': 'USA',\n",
       "   'CntryName': 'United States',\n",
       "   'LangCode': 'ENG',\n",
       "   'Distance': 0,\n",
       "   'X': -117.22034,\n",
       "   'Y': 32.94433,\n",
       "   'DisplayX': -117.22034,\n",
       "   'DisplayY': 32.94433,\n",
       "   'Xmin': -117.24734,\n",
       "   'Xmax': -117.19334,\n",
       "   'Ymin': 32.91733,\n",
       "   'Ymax': 32.97133,\n",
       "   'ExInfo': ''},\n",
       "  'extent': {'xmin': -117.24734,\n",
       "   'ymin': 32.91733,\n",
       "   'xmax': -117.19334,\n",
       "   'ymax': 32.97133}},\n",
       " {'address': 'Carmel Valley',\n",
       "  'location': {'x': -121.92801, 'y': 36.53607},\n",
       "  'score': 100,\n",
       "  'attributes': {'Loc_name': 'World',\n",
       "   'Status': 'T',\n",
       "   'Score': 100,\n",
       "   'Match_addr': 'Carmel Valley',\n",
       "   'LongLabel': 'Carmel Valley, CA, USA',\n",
       "   'ShortLabel': 'Carmel Valley',\n",
       "   'Addr_type': 'POI',\n",
       "   'Type': 'Valley',\n",
       "   'PlaceName': 'Carmel Valley',\n",
       "   'Place_addr': 'California',\n",
       "   'Phone': '',\n",
       "   'URL': '',\n",
       "   'Rank': 22,\n",
       "   'AddBldg': '',\n",
       "   'AddNum': '',\n",
       "   'AddNumFrom': '',\n",
       "   'AddNumTo': '',\n",
       "   'AddRange': '',\n",
       "   'Side': '',\n",
       "   'StPreDir': '',\n",
       "   'StPreType': '',\n",
       "   'StName': '',\n",
       "   'StType': '',\n",
       "   'StDir': '',\n",
       "   'BldgType': '',\n",
       "   'BldgName': '',\n",
       "   'LevelType': '',\n",
       "   'LevelName': '',\n",
       "   'UnitType': '',\n",
       "   'UnitName': '',\n",
       "   'SubAddr': '',\n",
       "   'StAddr': '',\n",
       "   'Block': '',\n",
       "   'Sector': '',\n",
       "   'Nbrhd': '',\n",
       "   'District': '',\n",
       "   'City': '',\n",
       "   'MetroArea': '',\n",
       "   'Subregion': 'Monterey County',\n",
       "   'Region': 'California',\n",
       "   'RegionAbbr': 'CA',\n",
       "   'Territory': '',\n",
       "   'Zone': '',\n",
       "   'Postal': '',\n",
       "   'PostalExt': '',\n",
       "   'Country': 'USA',\n",
       "   'CntryName': 'United States',\n",
       "   'LangCode': 'ENG',\n",
       "   'Distance': 0,\n",
       "   'X': -121.92801,\n",
       "   'Y': 36.53607,\n",
       "   'DisplayX': -121.92801,\n",
       "   'DisplayY': 36.53607,\n",
       "   'Xmin': -123.42801,\n",
       "   'Xmax': -120.42801,\n",
       "   'Ymin': 35.03607,\n",
       "   'Ymax': 38.03607,\n",
       "   'ExInfo': ''},\n",
       "  'extent': {'xmin': -123.42801,\n",
       "   'ymin': 35.03607,\n",
       "   'xmax': -120.42801,\n",
       "   'ymax': 38.03607}},\n",
       " {'address': 'Carmel Valley',\n",
       "  'location': {'x': -117.23865, 'y': 32.9306},\n",
       "  'score': 100,\n",
       "  'attributes': {'Loc_name': 'World',\n",
       "   'Status': 'T',\n",
       "   'Score': 100,\n",
       "   'Match_addr': 'Carmel Valley',\n",
       "   'LongLabel': 'Carmel Valley, San Diego, CA, USA',\n",
       "   'ShortLabel': 'Carmel Valley',\n",
       "   'Addr_type': 'POI',\n",
       "   'Type': 'Valley',\n",
       "   'PlaceName': 'Carmel Valley',\n",
       "   'Place_addr': 'San Diego, California',\n",
       "   'Phone': '',\n",
       "   'URL': '',\n",
       "   'Rank': 22,\n",
       "   'AddBldg': '',\n",
       "   'AddNum': '',\n",
       "   'AddNumFrom': '',\n",
       "   'AddNumTo': '',\n",
       "   'AddRange': '',\n",
       "   'Side': '',\n",
       "   'StPreDir': '',\n",
       "   'StPreType': '',\n",
       "   'StName': '',\n",
       "   'StType': '',\n",
       "   'StDir': '',\n",
       "   'BldgType': '',\n",
       "   'BldgName': '',\n",
       "   'LevelType': '',\n",
       "   'LevelName': '',\n",
       "   'UnitType': '',\n",
       "   'UnitName': '',\n",
       "   'SubAddr': '',\n",
       "   'StAddr': '',\n",
       "   'Block': '',\n",
       "   'Sector': '',\n",
       "   'Nbrhd': '',\n",
       "   'District': '',\n",
       "   'City': 'San Diego',\n",
       "   'MetroArea': '',\n",
       "   'Subregion': 'San Diego County',\n",
       "   'Region': 'California',\n",
       "   'RegionAbbr': 'CA',\n",
       "   'Territory': '',\n",
       "   'Zone': '',\n",
       "   'Postal': '',\n",
       "   'PostalExt': '',\n",
       "   'Country': 'USA',\n",
       "   'CntryName': 'United States',\n",
       "   'LangCode': 'ENG',\n",
       "   'Distance': 0,\n",
       "   'X': -117.23865,\n",
       "   'Y': 32.9306,\n",
       "   'DisplayX': -117.23865,\n",
       "   'DisplayY': 32.9306,\n",
       "   'Xmin': -118.73865,\n",
       "   'Xmax': -115.73865,\n",
       "   'Ymin': 31.4306,\n",
       "   'Ymax': 34.4306,\n",
       "   'ExInfo': ''},\n",
       "  'extent': {'xmin': -118.73865,\n",
       "   'ymin': 31.4306,\n",
       "   'xmax': -115.73865,\n",
       "   'ymax': 34.4306}},\n",
       " {'address': 'Union Valley',\n",
       "  'location': {'x': -73.69207, 'y': 41.36343},\n",
       "  'score': 100,\n",
       "  'attributes': {'Loc_name': 'World',\n",
       "   'Status': 'T',\n",
       "   'Score': 100,\n",
       "   'Match_addr': 'Union Valley',\n",
       "   'LongLabel': 'Union Valley, Carmel, NY, USA',\n",
       "   'ShortLabel': 'Union Valley',\n",
       "   'Addr_type': 'POI',\n",
       "   'Type': 'Valley',\n",
       "   'PlaceName': 'Union Valley',\n",
       "   'Place_addr': 'Carmel, New York',\n",
       "   'Phone': '',\n",
       "   'URL': '',\n",
       "   'Rank': 22,\n",
       "   'AddBldg': '',\n",
       "   'AddNum': '',\n",
       "   'AddNumFrom': '',\n",
       "   'AddNumTo': '',\n",
       "   'AddRange': '',\n",
       "   'Side': '',\n",
       "   'StPreDir': '',\n",
       "   'StPreType': '',\n",
       "   'StName': '',\n",
       "   'StType': '',\n",
       "   'StDir': '',\n",
       "   'BldgType': '',\n",
       "   'BldgName': '',\n",
       "   'LevelType': '',\n",
       "   'LevelName': '',\n",
       "   'UnitType': '',\n",
       "   'UnitName': '',\n",
       "   'SubAddr': '',\n",
       "   'StAddr': '',\n",
       "   'Block': '',\n",
       "   'Sector': '',\n",
       "   'Nbrhd': '',\n",
       "   'District': '',\n",
       "   'City': 'Carmel',\n",
       "   'MetroArea': '',\n",
       "   'Subregion': 'Putnam County',\n",
       "   'Region': 'New York',\n",
       "   'RegionAbbr': 'NY',\n",
       "   'Territory': '',\n",
       "   'Zone': '',\n",
       "   'Postal': '',\n",
       "   'PostalExt': '',\n",
       "   'Country': 'USA',\n",
       "   'CntryName': 'United States',\n",
       "   'LangCode': 'ENG',\n",
       "   'Distance': 0,\n",
       "   'X': -73.69207,\n",
       "   'Y': 41.36343,\n",
       "   'DisplayX': -73.69207,\n",
       "   'DisplayY': 41.36343,\n",
       "   'Xmin': -75.19207,\n",
       "   'Xmax': -72.19207,\n",
       "   'Ymin': 39.86343,\n",
       "   'Ymax': 42.86343,\n",
       "   'ExInfo': ''},\n",
       "  'extent': {'xmin': -75.19207,\n",
       "   'ymin': 39.86343,\n",
       "   'xmax': -72.19207,\n",
       "   'ymax': 42.86343}},\n",
       " {'address': 'Pescadero Canyon',\n",
       "  'location': {'x': -121.93134, 'y': 36.55746},\n",
       "  'score': 100,\n",
       "  'attributes': {'Loc_name': 'World',\n",
       "   'Status': 'T',\n",
       "   'Score': 100,\n",
       "   'Match_addr': 'Pescadero Canyon',\n",
       "   'LongLabel': 'Pescadero Canyon, Carmel-by-the-Sea, CA, USA',\n",
       "   'ShortLabel': 'Pescadero Canyon',\n",
       "   'Addr_type': 'POI',\n",
       "   'Type': 'Valley',\n",
       "   'PlaceName': 'Pescadero Canyon',\n",
       "   'Place_addr': 'Carmel-by-the-Sea, California',\n",
       "   'Phone': '',\n",
       "   'URL': '',\n",
       "   'Rank': 22,\n",
       "   'AddBldg': '',\n",
       "   'AddNum': '',\n",
       "   'AddNumFrom': '',\n",
       "   'AddNumTo': '',\n",
       "   'AddRange': '',\n",
       "   'Side': '',\n",
       "   'StPreDir': '',\n",
       "   'StPreType': '',\n",
       "   'StName': '',\n",
       "   'StType': '',\n",
       "   'StDir': '',\n",
       "   'BldgType': '',\n",
       "   'BldgName': '',\n",
       "   'LevelType': '',\n",
       "   'LevelName': '',\n",
       "   'UnitType': '',\n",
       "   'UnitName': '',\n",
       "   'SubAddr': '',\n",
       "   'StAddr': '',\n",
       "   'Block': '',\n",
       "   'Sector': '',\n",
       "   'Nbrhd': '',\n",
       "   'District': '',\n",
       "   'City': 'Carmel-by-the-Sea',\n",
       "   'MetroArea': '',\n",
       "   'Subregion': 'Monterey County',\n",
       "   'Region': 'California',\n",
       "   'RegionAbbr': 'CA',\n",
       "   'Territory': '',\n",
       "   'Zone': '',\n",
       "   'Postal': '',\n",
       "   'PostalExt': '',\n",
       "   'Country': 'USA',\n",
       "   'CntryName': 'United States',\n",
       "   'LangCode': 'ENG',\n",
       "   'Distance': 0,\n",
       "   'X': -121.93134,\n",
       "   'Y': 36.55746,\n",
       "   'DisplayX': -121.93134,\n",
       "   'DisplayY': 36.55746,\n",
       "   'Xmin': -123.43134,\n",
       "   'Xmax': -120.43134,\n",
       "   'Ymin': 35.05746,\n",
       "   'Ymax': 38.05746,\n",
       "   'ExInfo': ''},\n",
       "  'extent': {'xmin': -123.43134,\n",
       "   'ymin': 35.05746,\n",
       "   'xmax': -120.43134,\n",
       "   'ymax': 38.05746}},\n",
       " {'address': 'Valley Dr, Indianapolis, Indiana, 46280',\n",
       "  'location': {'x': -86.129102797332, 'y': 39.942994875124},\n",
       "  'score': 97.14,\n",
       "  'attributes': {'Loc_name': 'World',\n",
       "   'Status': 'T',\n",
       "   'Score': 97.14,\n",
       "   'Match_addr': 'Valley Dr, Indianapolis, Indiana, 46280',\n",
       "   'LongLabel': 'Valley Dr, Indianapolis, IN, 46280, USA',\n",
       "   'ShortLabel': 'Valley Dr',\n",
       "   'Addr_type': 'StreetName',\n",
       "   'Type': '',\n",
       "   'PlaceName': '',\n",
       "   'Place_addr': 'Valley Dr, Indianapolis, Indiana, 46280',\n",
       "   'Phone': '',\n",
       "   'URL': '',\n",
       "   'Rank': 20,\n",
       "   'AddBldg': '',\n",
       "   'AddNum': '',\n",
       "   'AddNumFrom': '',\n",
       "   'AddNumTo': '',\n",
       "   'AddRange': '',\n",
       "   'Side': '',\n",
       "   'StPreDir': '',\n",
       "   'StPreType': '',\n",
       "   'StName': 'Valley',\n",
       "   'StType': 'Dr',\n",
       "   'StDir': '',\n",
       "   'BldgType': '',\n",
       "   'BldgName': '',\n",
       "   'LevelType': '',\n",
       "   'LevelName': '',\n",
       "   'UnitType': '',\n",
       "   'UnitName': '',\n",
       "   'SubAddr': '',\n",
       "   'StAddr': 'Valley Dr',\n",
       "   'Block': '',\n",
       "   'Sector': '',\n",
       "   'Nbrhd': '',\n",
       "   'District': '',\n",
       "   'City': 'Indianapolis',\n",
       "   'MetroArea': '',\n",
       "   'Subregion': 'Hamilton County',\n",
       "   'Region': 'Indiana',\n",
       "   'RegionAbbr': 'IN',\n",
       "   'Territory': '',\n",
       "   'Zone': '',\n",
       "   'Postal': '46280',\n",
       "   'PostalExt': '',\n",
       "   'Country': 'USA',\n",
       "   'CntryName': 'United States',\n",
       "   'LangCode': 'ENG',\n",
       "   'Distance': 0,\n",
       "   'X': -86.129102797332,\n",
       "   'Y': 39.942994875124,\n",
       "   'DisplayX': -86.129102797332,\n",
       "   'DisplayY': 39.942994875124,\n",
       "   'Xmin': -86.130102797332,\n",
       "   'Xmax': -86.128102797332,\n",
       "   'Ymin': 39.941994875124,\n",
       "   'Ymax': 39.943994875124,\n",
       "   'ExInfo': ''},\n",
       "  'extent': {'xmin': -86.130102797332,\n",
       "   'ymin': 39.941994875124,\n",
       "   'xmax': -86.128102797332,\n",
       "   'ymax': 39.943994875124}}]"
      ]
     },
     "execution_count": 28,
     "metadata": {},
     "output_type": "execute_result"
    }
   ],
   "source": [
    "geocode_out[0]"
   ]
  },
  {
   "cell_type": "code",
   "execution_count": 29,
   "id": "00a71869",
   "metadata": {},
   "outputs": [],
   "source": [
    "import shapely\n",
    "from shapely.ops import split"
   ]
  },
  {
   "cell_type": "code",
   "execution_count": 30,
   "id": "7b0d0c41",
   "metadata": {},
   "outputs": [],
   "source": [
    "from arcgis.geometry import Point"
   ]
  },
  {
   "cell_type": "code",
   "execution_count": 32,
   "id": "155b0398",
   "metadata": {},
   "outputs": [],
   "source": [
    "arcgis_community_boundaries_lyr = gis.content.get(\"23a806fb906e428cb75d123cf2ab580c\").layers[0]"
   ]
  },
  {
   "cell_type": "code",
   "execution_count": 33,
   "id": "3ba0c978",
   "metadata": {},
   "outputs": [],
   "source": [
    "community_boundaries_sdf = pd.DataFrame.spatial.from_layer(arcgis_community_boundaries_lyr)"
   ]
  },
  {
   "cell_type": "code",
   "execution_count": 34,
   "id": "111047d7",
   "metadata": {},
   "outputs": [],
   "source": [
    "fset = arcgis_community_boundaries_lyr.query()"
   ]
  },
  {
   "cell_type": "code",
   "execution_count": 35,
   "id": "d1e8028e",
   "metadata": {},
   "outputs": [],
   "source": [
    "gjson_string = fset.to_geojson"
   ]
  },
  {
   "cell_type": "code",
   "execution_count": 36,
   "id": "00c1bba6",
   "metadata": {},
   "outputs": [],
   "source": [
    "community_boundaries_gdf = gpd.read_file(gjson_string, driver='GeoJSON').set_crs(2230, allow_override=True)"
   ]
  },
  {
   "cell_type": "code",
   "execution_count": 37,
   "id": "9d52f452",
   "metadata": {},
   "outputs": [
    {
     "data": {
      "text/plain": [
       "<AxesSubplot: >"
      ]
     },
     "execution_count": 37,
     "metadata": {},
     "output_type": "execute_result"
    },
    {
     "data": {
      "image/png": "[encoded data removed]",
      "text/plain": [
       "<Figure size 432x288 with 1 Axes>"
      ]
     },
     "metadata": {
      "needs_background": "light"
     },
     "output_type": "display_data"
    }
   ],
   "source": [
    "community_boundaries_gdf.plot()"
   ]
  },
  {
   "cell_type": "code",
   "execution_count": 39,
   "id": "f7f15bd0",
   "metadata": {},
   "outputs": [],
   "source": [
    "for g_out in geocode_out[0]:\n",
    "    p = g_out['location']\n",
    "    p = gpd.GeoSeries(shapely.Point(p['x'],  p['y'])).set_crs(4326).to_crs(2230)\n",
    "    temp_gdf = community_boundaries_gdf[community_boundaries_gdf.geometry.contains(p[0])]\n",
    "    if len(temp_gdf):\n",
    "        # the geocode out are ranked in confidence score\n",
    "        # break the first outcome is found\n",
    "        break"
   ]
  },
  {
   "cell_type": "code",
   "execution_count": 40,
   "id": "89c782ac",
   "metadata": {},
   "outputs": [],
   "source": [
    "community_shape = temp_gdf.geometry.iloc[0]\n",
    "x,y = community_shape.centroid.x, community_shape.centroid.y\n",
    "minx, miny, maxx, maxy = community_shape.bounds"
   ]
  },
  {
   "cell_type": "code",
   "execution_count": 41,
   "id": "4a9387cf",
   "metadata": {},
   "outputs": [],
   "source": [
    "l1 = shapely.LineString([(x, miny), (x, maxy)])\n",
    "l2 = shapely.LineString([(minx, y), (maxx, y)])"
   ]
  },
  {
   "cell_type": "code",
   "execution_count": 42,
   "id": "13a97a14",
   "metadata": {},
   "outputs": [],
   "source": [
    "out_poly = []\n",
    "for dw in dw_out:\n",
    "    if dw in ['north', 'south']:\n",
    "        out_dict = dict(map(lambda i,j : (i,j) , ['south', 'north'], split(community_shape, l2).geoms))\n",
    "    else:\n",
    "        out_dict = dict(map(lambda i,j : (i,j) , ['south', 'north'], split(community_shape, l2).geoms))\n",
    "    out_poly.append(out_dict[dw])"
   ]
  },
  {
   "cell_type": "code",
   "execution_count": 43,
   "id": "bd1694f3",
   "metadata": {},
   "outputs": [
    {
     "data": {
      "image/svg+xml": [
       "<svg xmlns=\"http://www.w3.org/2000/svg\" xmlns:xlink=\"http://www.w3.org/1999/xlink\" width=\"300\" height=\"300\" viewBox=\"6255681.997173825 1924169.136857198 15821.902804952115 9790.178476070054\" preserveAspectRatio=\"xMinYMin meet\"><g transform=\"matrix(1,0,0,-1,0,3858128.452190466)\"><path fill-rule=\"evenodd\" fill=\"#66cc99\" stroke=\"#555555\" stroke-width=\"105.4793520330141\" opacity=\"0.6\" d=\"M 6257138.98067397,1924755.1332573816 L 6257087.023760095,1925100.0188786685 L 6256821.023635924,1926886.998900503 L 6256659.993446171,1928044.0290667564 L 6256471.003666669,1929298.0190128386 L 6256448.993540093,1929444.0390620083 L 6256279.013565093,1930438.0288719237 L 6256267.993574008,1930484.0189374238 L 6256282.583767921,1930489.2889400125 L 6256315.323531836,1930500.1990231723 L 6256383.303710833,1930536.7990155816 L 6256516.443536431,1930598.2788795084 L 6257067.243615925,1930583.829105258 L 6257071.883698508,1931133.268951252 L 6258115.79368417,1931879.1890473366 L 6258600.423620418,1932234.5889270902 L 6258815.103637263,1932384.2890870124 L 6258829.653476924,1932384.628981337 L 6259594.163758919,1932367.1788850129 L 6259657.123606756,1932366.8891874254 L 6259563.44367601,1932573.8789309263 L 6259393.013570681,1932813.6491206735 L 6259333.503519088,1932886.5190536678 L 6259092.513515502,1933165.8889017552 L 6259111.053504676,1933165.4791256785 L 6259159.353604928,1933164.3990753442 L 6259177.033687681,1933163.9889711738 L 6259427.9636320025,1933158.3488905877 L 6259519.643566757,1933156.289183423 L 6259574.253693759,1933155.0588709265 L 6259627.913691431,1933153.839057088 L 6259682.093701169,1933152.6290857494 L 6259738.7336797565,1933151.3590751737 L 6259795.313619092,1933150.0690515041 L 6259851.893558428,1933148.8088834286 L 6259908.453484669,1933147.569056511 L 6259965.083620757,1933146.2691903412 L 6260020.283641592,1933145.0290353447 L 6260070.953487754,1933143.8889457583 L 6260121.643675089,1933142.7190005928 L 6260203.293446168,1933140.9089648426 L 6260312.373608589,1933138.4489960074 L 6260344.533649251,1933137.7390236706 L 6260630.303747013,1933132.509047255 L 6260655.263670847,1933131.959179595 L 6260656.47364217,1933186.8291485906 L 6260656.543523923,1933190.1490238458 L 6260813.013683423,1933187.8491596729 L 6260847.063484088,1933187.3491606712 L 6260846.883694425,1933187.939054504 L 6260877.143476427,1933188.0191068351 L 6260944.503577918,1932960.7689051777 L 6260943.783763096,1932932.6990794241 L 6260943.903513506,1932932.2489490956 L 6260931.6837216765,1932459.8689883351 L 6261442.013737753,1932458.0090839267 L 6261824.013629928,1932583.0190045089 L 6262286.30371584,1933067.5990720838 L 6262290.583562925,1933084.7991689295 L 6262292.463480428,1933159.1490858346 L 6262292.953636929,1933178.6290337592 L 6262337.523757756,1933194.4288709164 L 6262347.523737758,1933199.2090450823 L 6262370.343574002,1933206.068939507 L 6262480.233446091,1933245.0291634202 L 6262638.303668007,1933244.3191910833 L 6262704.223483667,1933185.9990977496 L 6262629.91359292,1932277.998945251 L 6262695.323567092,1932137.7088714987 L 6262831.053610593,1932097.5091487616 L 6262955.4634667635,1932157.03888534 L 6262976.563490167,1932442.5389705002 L 6262975.623531431,1932668.6690956652 L 6263033.563704252,1932817.098916918 L 6263086.523572087,1932950.5989780128 L 6263127.443765834,1933053.9691780955 L 6263182.963667929,1933050.469185084 L 6263215.423576757,1933049.588937506 L 6263285.303686336,1933045.568932429 L 6263374.273652762,1932939.0891585052 L 6263432.673470333,1932866.9488828331 L 6263599.8837658465,1932331.3190485835 L 6263673.813736096,1932091.7591602504 L 6263751.823750675,1932025.1388866752 L 6263786.953601673,1931992.8289119154 L 6263955.333514258,1932022.1090370864 L 6263912.993703917,1932469.4490216672 L 6263880.723755345,1932842.39906317 L 6263868.933752671,1933054.7788877487 L 6263867.913741589,1933054.9091368318 L 6263850.803539589,1933329.0890346766 L 6263853.333718255,1933361.7290612608 L 6263853.763507426,1933367.2090371698 L 6263921.193490669,1933373.3189330846 L 6264009.473497838,1933366.65916951 L 6264092.633764595,1933360.3789983392 L 6264175.3035467565,1933354.1391814202 L 6264324.953509927,1933342.8491777629 L 6264409.903471261,1933337.8091615885 L 6264446.253464177,1933335.65890342 L 6264488.343603089,1933333.1690790057 L 6264744.483510762,1933250.2391267568 L 6264860.603685334,1933212.6391363442 L 6265265.613702089,1933006.2091030031 L 6265265.503466085,1933086.8989022523 L 6265492.283524334,1933002.7789917588 L 6265761.123537838,1932877.329111427 L 6265793.273736,1932886.4390013367 L 6265815.036815837,1932891.547258839 L 6265836.97312367,1932895.8507279158 L 6265837.35370034,1932895.9189692587 L 6265837.553503096,1932895.9589954168 L 6265837.78348951,1932895.9993496686 L 6265866.443537176,1932900.3389079273 L 6265869.723714337,1932900.7490120828 L 6265892.641319424,1932903.0570783317 L 6265915.633727506,1932904.4291228354 L 6265919.473614842,1932904.7490040958 L 6265925.063498676,1932904.7289910018 L 6265972.693652764,1932904.5190176666 L 6265983.103736922,1932903.4789935052 L 6265983.313710257,1932903.9189532548 L 6266004.533484086,1932902.1591142565 L 6266015.123686001,1932900.999011591 L 6266025.683704257,1932899.6591192484 L 6266036.21353884,1932898.1289385855 L 6266047.859512925,1932896.2181812525 L 6266047.900195256,1932896.210963428 L 6266048.436611503,1932896.1174596697 L 6266057.203654334,1932894.528880179 L 6266092.733767003,1932869.389166668 L 6266136.803560764,1932838.2491370887 L 6266153.252674848,1932827.7465334237 L 6266162.024638921,1932822.945690006 L 6266164.088939264,1932821.8157709986 L 6266170.372391254,1932818.3764734268 L 6266170.483611509,1932818.3190588355 L 6266170.583676919,1932818.2691901773 L 6266171.036760002,1932818.043468833 L 6266174.042987585,1932816.5572513342 L 6266174.759849668,1932816.20882684 L 6266177.48983109,1932814.9480025917 L 6266183.537719265,1932812.3023385853 L 6266187.964875758,1932810.365662679 L 6266191.791967839,1932808.691453427 L 6266193.229957089,1932808.0625176728 L 6266193.826740667,1932807.8223606795 L 6266193.985533014,1932807.7649460882 L 6266200.89004676,1932805.2679038346 L 6266209.024216846,1932802.3259805888 L 6266211.279789761,1932801.5103654265 L 6266216.123612091,1932799.9788724184 L 6266216.373611584,1932799.9089906663 L 6266235.033679262,1932794.8791450858 L 6266235.093718514,1932794.6790142506 L 6266240.613720596,1932793.4988985062 L 6266265.133028507,1932789.5159668326 L 6266289.893477678,1932787.5189235955 L 6266302.453491926,1932787.2689240873 L 6266315.343558013,1932787.7088838369 L 6266345.523615763,1932789.1898519993 L 6266345.817906514,1932789.208224669 L 6266345.877617672,1932789.2118335813 L 6266355.773595259,1932789.8463467509 L 6266370.773565263,1932790.9372238368 L 6266386.057327345,1932792.2154365033 L 6266387.567823008,1932792.3515910953 L 6266388.459225431,1932792.432627678 L 6266389.213160917,1932792.5015251786 L 6266421.75345017,1932795.86897251 L 6266422.733763173,1932795.9887229204 L 6266422.743605673,1932795.9900352508 L 6266424.152067423,1932796.1550611705 L 6266429.803302839,1932796.8250073344 L 6266463.212028667,1932801.28103517 L 6266463.244180843,1932801.2853002548 L 6266463.763536751,1932801.359118998 L 6266479.346510842,1932800.7606950104 L 6266493.887820333,1932800.202297166 L 6266740.313508585,1932790.7390615046 L 6266759.973574251,1932789.2590775937 L 6266815.447216585,1932784.6101367623 L 6266870.853601843,1932779.219071418 L 6266902.80366917,1932771.5291261673 L 6266936.030964926,1932765.554728672 L 6266969.55353567,1932761.5590017587 L 6267003.258848846,1932759.5586776733 L 6267037.023545086,1932759.5590057522 L 6267070.722296596,1932761.5576894283 L 6267104.243555009,1932765.5491512567 L 6267105.60378851,1932765.7601088434 L 6267106.150047258,1932765.8447543383 L 6267106.171700761,1932765.8480351716 L 6267106.363957584,1932765.8778907508 L 6267109.048335418,1932766.292588085 L 6267110.857386917,1932766.580973342 L 6267110.961061254,1932766.597049415 L 6267111.451545835,1932766.679398343 L 6267111.938421503,1932766.7610910833 L 6267117.583751425,1932767.7089238316 L 6267117.8035672605,1932767.7391075045 L 6267154.323507339,1932775.4388952553 L 6267186.316881672,1932784.356200248 L 6267217.713472426,1932795.189183846 L 6267228.353543013,1932799.3591230065 L 6267293.193636417,1932806.089096427 L 6267458.053542927,1932815.529038176 L 6267489.112535924,1932820.8334895074 L 6267519.92349793,1932827.42894876 L 6267557.528409585,1932837.3324722499 L 6267594.573611096,1932849.1588921696 L 6267623.393763423,1932859.849159509 L 6268006.093129262,1932832.7314315885 L 6268010.643645093,1932832.4089256674 L 6268018.751240417,1932831.391211167 L 6268019.723679423,1932831.2691641748 L 6268019.792248845,1932831.2596497536 L 6268023.157399595,1932830.8009892553 L 6268033.3197808415,1932829.3866220117 L 6268036.437884837,1932828.9184470922 L 6268051.010034174,1932826.554934755 L 6268062.757714093,1932824.435516417 L 6268065.851539925,1932823.8456225842 L 6268082.763579592,1932820.3889365941 L 6268082.853474423,1932820.3695796728 L 6268096.513552085,1932817.2790346742 L 6268096.683499262,1932817.229166001 L 6268096.858039588,1932817.1878275126 L 6268097.663156092,1932816.9975391775 L 6268107.411496177,1932814.6149980128 L 6268124.526291341,1932810.0959781706 L 6268127.559749842,1932809.2505074292 L 6268128.983959585,1932808.8486053348 L 6268130.589271337,1932808.3922414184 L 6268157.829702422,1932800.063846007 L 6268157.845122337,1932800.0589247495 L 6268158.252929926,1932799.9263790846 L 6268171.633480594,1932795.4089996666 L 6268171.91366376,1932795.3089342564 L 6268193.716113597,1932787.3470079154 L 6268215.263642669,1932778.7190724164 L 6268251.494213253,1932763.6347850114 L 6268278.041732341,1932752.4979962558 L 6268289.990199253,1932747.475040421 L 6268291.448201597,1932746.8621807545 L 6268295.148653507,1932745.3067376763 L 6268297.40192984,1932744.3598891795 L 6268305.783474758,1932740.8490694165 L 6268417.003724754,1932737.8389048427 L 6268703.44376868,1932433.1190418452 L 6268886.233757421,1932216.5689500123 L 6268923.223512843,1932140.328945011 L 6268952.643729597,1931979.098952502 L 6268966.9737534225,1931572.798912093 L 6268965.773624584,1931210.0991781652 L 6268965.463585839,1931086.9691750854 L 6268963.133538008,1930202.2990284264 L 6268961.773632586,1929617.9491472542 L 6270431.703763589,1929613.5088674277 L 6270415.373743758,1929573.9889333397 L 6270409.293703422,1929558.1188863367 L 6270404.613594681,1929545.2891875952 L 6270402.363599181,1929539.0290295035 L 6270396.163480341,1929521.0789341778 L 6270382.143495262,1929476.219115749 L 6270388.263561755,1929476.2889975011 L 6270385.503724754,1929461.898934424 L 6270304.003559679,1928620.00888592 L 6270253.503660679,1928272.149017334 L 6270246.003675669,1928243.01915434 L 6270181.50347659,1928060.6491122544 L 6270157.503524587,1928011.1590537578 L 6270140.503558591,1927980.519023165 L 6270108.023636669,1927930.0191241652 L 6269996.013690084,1927811.269033596 L 6269967.003577501,1927776.9088660926 L 6269946.003619507,1927749.0089875013 L 6269736.813749179,1927516.9389135838 L 6269732.263561428,1927509.1390604228 L 6269604.713619679,1927335.1190672517 L 6269513.803696513,1927225.368958667 L 6269456.813653007,1927156.628938675 L 6269407.093608096,1927095.5191527605 L 6269403.723536089,1927094.0089851767 L 6269394.523751333,1927075.0789049268 L 6269347.863739669,1926958.9990845919 L 6269334.223675087,1926920.0191756785 L 6269328.103608593,1926900.8289253414 L 6269302.873672172,1926821.588926345 L 6269280.66374284,1926737.2091738433 L 6269264.413447261,1926590.4591392577 L 6269249.00370118,1926332.028881833 L 6269240.98370409,1926300.0089327544 L 6269293.503612176,1926316.5390834212 L 6269357.013655752,1926330.6289502531 L 6269416.493523672,1926338.2788693458 L 6269486.523567334,1926339.7591813356 L 6269496.603599668,1926339.6991420835 L 6269499.563567504,1926325.758881256 L 6269501.513694838,1926279.98895967 L 6269860.1337125,1926271.258990258 L 6270423.213623092,1926257.5490439236 L 6270481.843755171,1926256.1491123438 L 6270815.643612504,1926248.0388923436 L 6270913.053522676,1926245.6589758396 L 6270914.483637929,1925956.1090300083 L 6270916.403581589,1925570.6990396678 L 6270917.833696842,1925285.9391105026 L 6270917.873723,1925279.7389916778 L 6270917.903578594,1925272.6691239178 L 6270056.163504168,1924983.3790200949 L 6269528.603535667,1925000.3691435903 L 6269267.033844181,1924755.1332573816 L 6257138.98067397,1924755.1332573816 z\" /></g></svg>"
      ],
      "text/plain": [
       "<POLYGON ((6.26e+06 1.92e+06, 6.26e+06 1.93e+06, 6.26e+06 1.93e+06, 6.26e+06...>"
      ]
     },
     "execution_count": 43,
     "metadata": {},
     "output_type": "execute_result"
    }
   ],
   "source": [
    "out_poly[0]"
   ]
  },
  {
   "cell_type": "code",
   "execution_count": 83,
   "id": "738ba414",
   "metadata": {},
   "outputs": [],
   "source": [
    "arcgis_poly = Geometry.from_shapely(out_poly[0])"
   ]
  },
  {
   "cell_type": "code",
   "execution_count": 106,
   "id": "d6528613",
   "metadata": {},
   "outputs": [],
   "source": [
    "arcgis_poly[\"spatialReference\"] = {\"wkid\" : 2230}"
   ]
  },
  {
   "cell_type": "code",
   "execution_count": 97,
   "id": "a8fbdb00",
   "metadata": {},
   "outputs": [],
   "source": [
    "usa = Country('usa')"
   ]
  },
  {
   "cell_type": "code",
   "execution_count": 120,
   "id": "7e4d37eb",
   "metadata": {},
   "outputs": [],
   "source": [
    "enriched = enrich([arcgis_poly], ['Age'])"
   ]
  },
  {
   "cell_type": "code",
   "execution_count": 121,
   "id": "9a9c9a6e",
   "metadata": {},
   "outputs": [
    {
     "data": {
      "text/html": [
       "<div>\n",
       "<style scoped>\n",
       "    .dataframe tbody tr th:only-of-type {\n",
       "        vertical-align: middle;\n",
       "    }\n",
       "\n",
       "    .dataframe tbody tr th {\n",
       "        vertical-align: top;\n",
       "    }\n",
       "\n",
       "    .dataframe thead th {\n",
       "        text-align: right;\n",
       "    }\n",
       "</style>\n",
       "<table border=\"1\" class=\"dataframe\">\n",
       "  <thead>\n",
       "    <tr style=\"text-align: right;\">\n",
       "      <th></th>\n",
       "      <th>source_country</th>\n",
       "      <th>aggregation_method</th>\n",
       "      <th>population_to_polygon_size_rating</th>\n",
       "      <th>apportionment_confidence</th>\n",
       "      <th>has_data</th>\n",
       "      <th>male0</th>\n",
       "      <th>male5</th>\n",
       "      <th>male10</th>\n",
       "      <th>male15</th>\n",
       "      <th>male20</th>\n",
       "      <th>...</th>\n",
       "      <th>fem45</th>\n",
       "      <th>fem50</th>\n",
       "      <th>fem55</th>\n",
       "      <th>fem60</th>\n",
       "      <th>fem65</th>\n",
       "      <th>fem70</th>\n",
       "      <th>fem75</th>\n",
       "      <th>fem80</th>\n",
       "      <th>fem85</th>\n",
       "      <th>SHAPE</th>\n",
       "    </tr>\n",
       "  </thead>\n",
       "  <tbody>\n",
       "    <tr>\n",
       "      <th>0</th>\n",
       "      <td>USA</td>\n",
       "      <td>BlockApportionment:US.BlockGroups;PointsLayer:...</td>\n",
       "      <td>2.191</td>\n",
       "      <td>2.576</td>\n",
       "      <td>1</td>\n",
       "      <td>587.0</td>\n",
       "      <td>683.0</td>\n",
       "      <td>907.0</td>\n",
       "      <td>913.0</td>\n",
       "      <td>770.0</td>\n",
       "      <td>...</td>\n",
       "      <td>1030.0</td>\n",
       "      <td>1079.0</td>\n",
       "      <td>974.0</td>\n",
       "      <td>814.0</td>\n",
       "      <td>568.0</td>\n",
       "      <td>415.0</td>\n",
       "      <td>277.0</td>\n",
       "      <td>151.0</td>\n",
       "      <td>167.0</td>\n",
       "      <td>{\"rings\": [[[6257138.980673283, 1924755.133257...</td>\n",
       "    </tr>\n",
       "  </tbody>\n",
       "</table>\n",
       "<p>1 rows × 42 columns</p>\n",
       "</div>"
      ],
      "text/plain": [
       "  source_country                                 aggregation_method  \\\n",
       "0            USA  BlockApportionment:US.BlockGroups;PointsLayer:...   \n",
       "\n",
       "   population_to_polygon_size_rating  apportionment_confidence  has_data  \\\n",
       "0                              2.191                     2.576         1   \n",
       "\n",
       "   male0  male5  male10  male15  male20  ...   fem45   fem50  fem55  fem60  \\\n",
       "0  587.0  683.0   907.0   913.0   770.0  ...  1030.0  1079.0  974.0  814.0   \n",
       "\n",
       "   fem65  fem70  fem75  fem80  fem85  \\\n",
       "0  568.0  415.0  277.0  151.0  167.0   \n",
       "\n",
       "                                               SHAPE  \n",
       "0  {\"rings\": [[[6257138.980673283, 1924755.133257...  \n",
       "\n",
       "[1 rows x 42 columns]"
      ]
     },
     "execution_count": 121,
     "metadata": {},
     "output_type": "execute_result"
    }
   ],
   "source": [
    "enriched"
   ]
  },
  {
   "cell_type": "markdown",
   "id": "e912a405",
   "metadata": {},
   "source": [
    "## 1 POI"
   ]
  },
  {
   "cell_type": "code",
   "execution_count": 44,
   "id": "aad19038",
   "metadata": {},
   "outputs": [],
   "source": [
    "e = \"around the 24-Hour Fitness on Balboa Ave.\""
   ]
  },
  {
   "cell_type": "code",
   "execution_count": 45,
   "id": "b6e99a4f",
   "metadata": {},
   "outputs": [],
   "source": [
    "# Extract keywords\n",
    "keywords = kw_model.extract_keywords(e)[0]\n",
    "for kw in keywords.copy():\n",
    "    if kw.lower() in stop_words:\n",
    "        keywords.remove(kw)"
   ]
  },
  {
   "cell_type": "code",
   "execution_count": 46,
   "id": "38047982",
   "metadata": {},
   "outputs": [
    {
     "data": {
      "text/plain": [
       "['24-Hour Fitness', 'Balboa Ave']"
      ]
     },
     "execution_count": 46,
     "metadata": {},
     "output_type": "execute_result"
    }
   ],
   "source": [
    "keywords"
   ]
  },
  {
   "cell_type": "code",
   "execution_count": 47,
   "id": "2883d340",
   "metadata": {},
   "outputs": [],
   "source": [
    "geocode_out = geocode(address = \" \".join(keywords) + \", San Diego\", max_locations = 1)[0]"
   ]
  },
  {
   "cell_type": "code",
   "execution_count": 48,
   "id": "a0edd919",
   "metadata": {
    "scrolled": true
   },
   "outputs": [
    {
     "data": {
      "text/plain": [
       "{'address': '24 Hour Fitness',\n",
       " 'location': {'x': -117.158353, 'y': 32.820471},\n",
       " 'score': 100,\n",
       " 'attributes': {'Loc_name': 'World',\n",
       "  'Status': 'M',\n",
       "  'Score': 100,\n",
       "  'Match_addr': '24 Hour Fitness',\n",
       "  'LongLabel': '24 Hour Fitness, 7715 Balboa Ave, San Diego, CA, 92111, USA',\n",
       "  'ShortLabel': '24 Hour Fitness',\n",
       "  'Addr_type': 'POI',\n",
       "  'Type': 'Fitness Center',\n",
       "  'PlaceName': '24 Hour Fitness',\n",
       "  'Place_addr': '7715 Balboa Ave, San Diego, California, 92111',\n",
       "  'Phone': '(858) 292-7079',\n",
       "  'URL': '',\n",
       "  'Rank': 19,\n",
       "  'AddBldg': '',\n",
       "  'AddNum': '7715',\n",
       "  'AddNumFrom': '',\n",
       "  'AddNumTo': '',\n",
       "  'AddRange': '',\n",
       "  'Side': '',\n",
       "  'StPreDir': '',\n",
       "  'StPreType': '',\n",
       "  'StName': 'Balboa',\n",
       "  'StType': 'Ave',\n",
       "  'StDir': '',\n",
       "  'BldgType': '',\n",
       "  'BldgName': '',\n",
       "  'LevelType': '',\n",
       "  'LevelName': '',\n",
       "  'UnitType': '',\n",
       "  'UnitName': '',\n",
       "  'SubAddr': '',\n",
       "  'StAddr': '7715 Balboa Ave',\n",
       "  'Block': '',\n",
       "  'Sector': '',\n",
       "  'Nbrhd': '',\n",
       "  'District': '',\n",
       "  'City': 'San Diego',\n",
       "  'MetroArea': '',\n",
       "  'Subregion': 'San Diego County',\n",
       "  'Region': 'California',\n",
       "  'RegionAbbr': 'CA',\n",
       "  'Territory': '',\n",
       "  'Zone': '',\n",
       "  'Postal': '92111',\n",
       "  'PostalExt': '',\n",
       "  'Country': 'USA',\n",
       "  'CntryName': 'United States',\n",
       "  'LangCode': 'ENG',\n",
       "  'Distance': 0,\n",
       "  'X': -117.158353,\n",
       "  'Y': 32.820471,\n",
       "  'DisplayX': -117.158353,\n",
       "  'DisplayY': 32.820471,\n",
       "  'Xmin': -117.159353,\n",
       "  'Xmax': -117.157353,\n",
       "  'Ymin': 32.819471,\n",
       "  'Ymax': 32.821471,\n",
       "  'ExInfo': ''},\n",
       " 'extent': {'xmin': -117.159353,\n",
       "  'ymin': 32.819471,\n",
       "  'xmax': -117.157353,\n",
       "  'ymax': 32.821471}}"
      ]
     },
     "execution_count": 48,
     "metadata": {},
     "output_type": "execute_result"
    }
   ],
   "source": [
    "geocode_out"
   ]
  },
  {
   "cell_type": "code",
   "execution_count": 49,
   "id": "a8751775",
   "metadata": {},
   "outputs": [
    {
     "data": {
      "image/svg+xml": [
       "<svg xmlns=\"http://www.w3.org/2000/svg\" xmlns:xlink=\"http://www.w3.org/1999/xlink\" width=\"216.0\" height=\"216.0\" viewBox=\"6282496.1485667275 1879413.3861821468 216.0 216.0\" preserveAspectRatio=\"xMinYMin meet\"><g transform=\"matrix(1,0,0,-1,0,3759042.7723642937)\"><path fill-rule=\"evenodd\" fill=\"#66cc99\" stroke=\"#555555\" stroke-width=\"2.0\" opacity=\"0.6\" d=\"M 6282704.1485667275,1879521.3861821468 L 6282703.667039394,1879511.584468114 L 6282702.227094768,1879501.8771499451 L 6282699.842600301,1879492.3577144213 L 6282696.536519978,1879483.1178389103 L 6282692.340693163,1879474.2465084642 L 6282687.295527957,1879465.829158845 L 6282681.449612063,1879457.9468537306 L 6282674.859244846,1879450.675504028 L 6282667.587895144,1879444.0851368106 L 6282659.705590029,1879438.2392209165 L 6282651.28824041,1879433.194055712 L 6282642.416909964,1879428.9982288957 L 6282633.177034453,1879425.6921485737 L 6282623.6575989295,1879423.3076541065 L 6282613.95028076,1879421.8677094795 L 6282604.1485667275,1879421.3861821468 L 6282594.346852695,1879421.8677094795 L 6282584.639534526,1879423.3076541065 L 6282575.1200990025,1879425.6921485737 L 6282565.880223491,1879428.9982288957 L 6282557.008893045,1879433.194055712 L 6282548.591543426,1879438.2392209165 L 6282540.709238311,1879444.0851368106 L 6282533.437888609,1879450.675504028 L 6282526.847521392,1879457.9468537306 L 6282521.001605498,1879465.829158845 L 6282515.956440292,1879474.2465084642 L 6282511.760613477,1879483.1178389103 L 6282508.454533154,1879492.3577144213 L 6282506.070038687,1879501.8771499451 L 6282504.630094061,1879511.584468114 L 6282504.1485667275,1879521.3861821468 L 6282504.630094061,1879531.1878961797 L 6282506.070038687,1879540.8952143486 L 6282508.454533154,1879550.4146498723 L 6282511.760613477,1879559.6545253834 L 6282515.956440292,1879568.5258558295 L 6282521.001605498,1879576.9432054488 L 6282526.847521392,1879584.825510563 L 6282533.437888609,1879592.0968602656 L 6282540.709238311,1879598.6872274831 L 6282548.591543426,1879604.5331433772 L 6282557.008893045,1879609.5783085816 L 6282565.880223491,1879613.774135398 L 6282575.1200990025,1879617.08021572 L 6282584.639534526,1879619.4647101872 L 6282594.346852695,1879620.9046548142 L 6282604.1485667275,1879621.3861821468 L 6282613.95028076,1879620.9046548142 L 6282623.6575989295,1879619.4647101872 L 6282633.177034453,1879617.08021572 L 6282642.416909964,1879613.774135398 L 6282651.28824041,1879609.5783085816 L 6282659.705590029,1879604.5331433772 L 6282667.587895144,1879598.6872274831 L 6282674.859244846,1879592.0968602656 L 6282681.449612063,1879584.825510563 L 6282687.295527957,1879576.9432054488 L 6282692.340693163,1879568.5258558295 L 6282696.536519978,1879559.6545253834 L 6282699.842600301,1879550.4146498723 L 6282702.227094768,1879540.8952143486 L 6282703.667039394,1879531.1878961797 L 6282704.1485667275,1879521.3861821468 z\" /></g></svg>"
      ],
      "text/plain": [
       "<POLYGON ((6.28e+06 1.88e+06, 6.28e+06 1.88e+06, 6.28e+06 1.88e+06, 6.28e+06...>"
      ]
     },
     "execution_count": 49,
     "metadata": {},
     "output_type": "execute_result"
    }
   ],
   "source": [
    "gpd.GeoSeries(shapely.Point(geocode_out['location']['x'],  geocode_out['location']['y'])).set_crs(4326).to_crs(2230).buffer(100)[0]"
   ]
  },
  {
   "cell_type": "markdown",
   "id": "5d5f1b60",
   "metadata": {},
   "source": [
    "## 2 POI (Polygon)"
   ]
  },
  {
   "cell_type": "code",
   "execution_count": 50,
   "id": "349cfe55",
   "metadata": {},
   "outputs": [],
   "source": [
    "e1, e2 = \"near UTC\", \"near Balboa Park\""
   ]
  },
  {
   "cell_type": "code",
   "execution_count": 51,
   "id": "e3f805f1",
   "metadata": {},
   "outputs": [],
   "source": [
    "# need data for landmark polygons"
   ]
  },
  {
   "cell_type": "markdown",
   "id": "ca567756",
   "metadata": {},
   "source": [
    "## 3 street segments"
   ]
  },
  {
   "cell_type": "code",
   "execution_count": 52,
   "id": "84ec540d",
   "metadata": {},
   "outputs": [],
   "source": [
    "e = \"on El Cajon Blvd between 63rd and 70th streets\""
   ]
  },
  {
   "cell_type": "code",
   "execution_count": 63,
   "id": "aaa1ea1a",
   "metadata": {},
   "outputs": [],
   "source": [
    "# Extract keywords\n",
    "keywords = kw_model.extract_keywords(e)[0]"
   ]
  },
  {
   "cell_type": "code",
   "execution_count": 64,
   "id": "bcee870d",
   "metadata": {},
   "outputs": [],
   "source": [
    "for kw in keywords.copy():\n",
    "    if kw.lower() in stop_words:\n",
    "        keywords.remove(kw)"
   ]
  },
  {
   "cell_type": "code",
   "execution_count": 65,
   "id": "a491872b",
   "metadata": {},
   "outputs": [
    {
     "data": {
      "text/plain": [
       "['El Cajon Blvd', '63rd street', '70th street']"
      ]
     },
     "execution_count": 65,
     "metadata": {},
     "output_type": "execute_result"
    }
   ],
   "source": [
    "keywords"
   ]
  },
  {
   "cell_type": "code",
   "execution_count": 66,
   "id": "df65497a",
   "metadata": {},
   "outputs": [],
   "source": [
    "geocode_out = []\n",
    "# specify SD to be disambiguous for geocode\n",
    "for kw in keywords:\n",
    "    geocode_out.append(geocode(address = kw + \", San Diego\", max_locations = 1)[0]['location'])"
   ]
  },
  {
   "cell_type": "code",
   "execution_count": 67,
   "id": "27d78fdc",
   "metadata": {},
   "outputs": [
    {
     "data": {
      "text/plain": [
       "[{'x': -117.065754570721, 'y': 32.762214735752},\n",
       " {'x': -117.063339537401, 'y': 32.767107358976},\n",
       " {'x': -117.046364782356, 'y': 32.773663010316}]"
      ]
     },
     "execution_count": 67,
     "metadata": {},
     "output_type": "execute_result"
    }
   ],
   "source": [
    "geocode_out"
   ]
  },
  {
   "cell_type": "raw",
   "id": "b082df70",
   "metadata": {},
   "source": [
    "url = \"https://gis-public.sandiegocounty.gov/arcgis/rest/services/sdep_warehouse/ROADS_ALL/FeatureServer/0\""
   ]
  },
  {
   "cell_type": "raw",
   "id": "992fefd7",
   "metadata": {},
   "source": [
    "from arcgis.features import FeatureLayer\n",
    "fl = FeatureLayer(url, gis)"
   ]
  },
  {
   "cell_type": "raw",
   "id": "f906b640",
   "metadata": {},
   "source": [
    "fset = fl.query()"
   ]
  },
  {
   "cell_type": "raw",
   "id": "1a1f874c",
   "metadata": {},
   "source": [
    "gjson_string = fset.to_geojson"
   ]
  },
  {
   "cell_type": "raw",
   "id": "d39b7ce5",
   "metadata": {},
   "source": [
    "with open('sd_roads.json', 'w') as f:\n",
    "    f.write(gjson_string)"
   ]
  },
  {
   "cell_type": "code",
   "execution_count": 58,
   "id": "819c6777",
   "metadata": {},
   "outputs": [],
   "source": [
    "# this takes long\n",
    "sd_roads_gdf = gpd.read_file('sd_roads.json', driver='GeoJSON').set_crs(2230, allow_override=True)"
   ]
  },
  {
   "cell_type": "code",
   "execution_count": 68,
   "id": "b2935d15",
   "metadata": {},
   "outputs": [],
   "source": [
    "rd = []\n",
    "for g_out in geocode_out:\n",
    "    p = gpd.GeoSeries(shapely.Point(g_out['x'],  g_out['y'])).set_crs(4326).to_crs(2230).buffer(100)\n",
    "    rd.append(sd_roads_gdf[sd_roads_gdf.geometry.crosses(p[0])])"
   ]
  },
  {
   "cell_type": "code",
   "execution_count": 69,
   "id": "3fa11069",
   "metadata": {},
   "outputs": [],
   "source": [
    "out_road = []\n",
    "for r in rd:\n",
    "    rd_name = r.RD20FULL.iloc[0]\n",
    "    road_segments = sd_roads_gdf[sd_roads_gdf['RD20FULL'] == rd_name]['geometry'].tolist()\n",
    "    temp_road = road_segments[0]\n",
    "    for r in road_segments[1:]:\n",
    "        temp_road = temp_road.union(r)\n",
    "    out_road.append(temp_road)"
   ]
  },
  {
   "cell_type": "code",
   "execution_count": 70,
   "id": "591a1236",
   "metadata": {},
   "outputs": [],
   "source": [
    "simple_rd = []\n",
    "for rd in out_road:\n",
    "    minx, miny, maxx, maxy = rd.bounds\n",
    "    if (maxy - miny) > (maxx - minx):\n",
    "        x = rd.centroid.x\n",
    "        simple_rd.append(shapely.LineString([(x, miny), (x, maxy)]))\n",
    "    else:\n",
    "\n",
    "        y = rd.centroid.y\n",
    "        simple_rd.append(shapely.LineString([(minx, y), (maxx, y)]))"
   ]
  },
  {
   "cell_type": "code",
   "execution_count": 71,
   "id": "cd674093",
   "metadata": {},
   "outputs": [],
   "source": [
    "rd_bound = []\n",
    "road = None\n",
    "for rd1 in simple_rd:\n",
    "    count = 0\n",
    "    for rd2 in simple_rd:\n",
    "        if rd1.crosses(rd2): count += 1 \n",
    "    if count == 2:\n",
    "        for i, rd2 in enumerate(simple_rd):\n",
    "            pt = rd1.intersection(rd2)\n",
    "            if isinstance(pt, shapely.Point):\n",
    "                rd_bound.append(pt)\n",
    "            else:\n",
    "                road = out_road[i]\n",
    "        break"
   ]
  },
  {
   "cell_type": "code",
   "execution_count": 72,
   "id": "5d56be38",
   "metadata": {},
   "outputs": [],
   "source": [
    "import numpy as np"
   ]
  },
  {
   "cell_type": "code",
   "execution_count": 73,
   "id": "4bc0304a",
   "metadata": {},
   "outputs": [],
   "source": [
    "idxmax = np.argmax(np.abs(np.array(rd_bound[0].bounds) - rd_bound[1].bounds))"
   ]
  },
  {
   "cell_type": "code",
   "execution_count": null,
   "id": "6b104876",
   "metadata": {},
   "outputs": [],
   "source": []
  },
  {
   "cell_type": "code",
   "execution_count": 74,
   "id": "0caa0143",
   "metadata": {},
   "outputs": [],
   "source": [
    "maxpt1, maxpt2 = rd_bound[0].xy[idxmax][0], rd_bound[1].xy[idxmax][0]"
   ]
  },
  {
   "cell_type": "code",
   "execution_count": 75,
   "id": "ed68d99c",
   "metadata": {},
   "outputs": [],
   "source": [
    "minx, miny, maxx, maxy = road.bounds"
   ]
  },
  {
   "cell_type": "code",
   "execution_count": 76,
   "id": "f191dfc5",
   "metadata": {},
   "outputs": [],
   "source": [
    "minx, maxx = min(maxpt1, maxpt2), max(maxpt1, maxpt2)"
   ]
  },
  {
   "cell_type": "code",
   "execution_count": 77,
   "id": "c93dfdf4",
   "metadata": {},
   "outputs": [],
   "source": [
    "from shapely.geometry import box\n",
    "out_road = box(minx, miny, maxx, maxy).intersection(road)"
   ]
  },
  {
   "cell_type": "code",
   "execution_count": 78,
   "id": "8e020e93",
   "metadata": {},
   "outputs": [
    {
     "data": {
      "text/plain": [
       "[<matplotlib.lines.Line2D at 0x1b9315c5160>]"
      ]
     },
     "execution_count": 78,
     "metadata": {},
     "output_type": "execute_result"
    },
    {
     "data": {
      "image/png": "[encoded data removed]",
      "text/plain": [
       "<Figure size 432x288 with 1 Axes>"
      ]
     },
     "metadata": {
      "needs_background": "light"
     },
     "output_type": "display_data"
    }
   ],
   "source": [
    "fig, axs = plt.subplots()\n",
    "\n",
    "for geom in road.buffer(5).geoms:    \n",
    "    xs, ys = geom.exterior.xy    \n",
    "    axs.fill(xs, ys, alpha=1, color='red')\n",
    "\n",
    "plt.plot(*out_road.buffer(100).exterior.xy)\n"
   ]
  },
  {
   "cell_type": "code",
   "execution_count": null,
   "id": "c01903dc",
   "metadata": {},
   "outputs": [],
   "source": []
  },
  {
   "cell_type": "code",
   "execution_count": null,
   "id": "38f61aa2",
   "metadata": {},
   "outputs": [],
   "source": []
  },
  {
   "cell_type": "code",
   "execution_count": null,
   "id": "8f155840",
   "metadata": {},
   "outputs": [],
   "source": []
  },
  {
   "cell_type": "code",
   "execution_count": null,
   "id": "9fa5f3c8",
   "metadata": {},
   "outputs": [],
   "source": []
  },
  {
   "cell_type": "code",
   "execution_count": null,
   "id": "edaf8f4d",
   "metadata": {},
   "outputs": [],
   "source": []
  },
  {
   "cell_type": "markdown",
   "id": "d34017c2",
   "metadata": {},
   "source": [
    "### DEPRECATED"
   ]
  },
  {
   "cell_type": "code",
   "execution_count": 118,
   "id": "4d70ad62",
   "metadata": {},
   "outputs": [],
   "source": [
    "sd_roads_sdf = pd.DataFrame.spatial.from_layer(fl)"
   ]
  },
  {
   "cell_type": "code",
   "execution_count": 175,
   "id": "011589d9",
   "metadata": {},
   "outputs": [],
   "source": [
    "a = Point({'x': -117.065754570721, 'y': 32.762214735752, \"spatialReference\" : {\"wkid\" : 4326}})"
   ]
  },
  {
   "cell_type": "code",
   "execution_count": 216,
   "id": "f606b242",
   "metadata": {},
   "outputs": [],
   "source": [
    "#this takes too damn long\n",
    "rd = []\n",
    "for p in geocode_out:\n",
    "    p[\"spatialReference\"] = {\"wkid\" : 4326}\n",
    "    point_buffer = Point(p).project_as({'wkid': 102646, 'latestWkid': 2230}).buffer(100)\n",
    "    rd.append(sd_roads_sdf[sd_roads_sdf[\"SHAPE\"].geom.crosses(point_buffer)])\n",
    "    "
   ]
  },
  {
   "cell_type": "code",
   "execution_count": 297,
   "id": "89c8bdc7",
   "metadata": {},
   "outputs": [],
   "source": [
    "out_road = []\n",
    "for r in rd:\n",
    "    rd_name = r.RD20FULL.iloc[0]\n",
    "    road_segments = sd_roads_sdf[sd_roads_sdf['RD20FULL'] == rd_name]['SHAPE'].tolist()\n",
    "    temp_road = road_segments[0]\n",
    "    for r in road_segments[1:]:\n",
    "        temp_road = temp_road.union(r)\n",
    "    out_road.append(temp_road)"
   ]
  },
  {
   "cell_type": "code",
   "execution_count": 294,
   "id": "05489cb4",
   "metadata": {},
   "outputs": [
    {
     "data": {
      "application/vnd.jupyter.widget-view+json": {
       "model_id": "33a51bfd62274b1aa69bbac69b03aa4a",
       "version_major": 2,
       "version_minor": 0
      },
      "text/plain": [
       "MapView(layout=Layout(height='400px', width='100%'))"
      ]
     },
     "metadata": {},
     "output_type": "display_data"
    },
    {
     "data": {
      "text/html": [
       "<div class=\"map-static-img-preview-d9087e28-0deb-4cca-a610-6efb085b22cb\"><img src=\"\"></img></div>"
      ],
      "text/plain": [
       "<IPython.core.display.HTML object>"
      ]
     },
     "metadata": {},
     "output_type": "display_data"
    },
    {
     "data": {
      "text/html": [
       "<div class=\"map-html-embed-preview-d9087e28-0deb-4cca-a610-6efb085b22cb\"></div>"
      ],
      "text/plain": [
       "<IPython.core.display.HTML object>"
      ]
     },
     "metadata": {},
     "output_type": "display_data"
    }
   ],
   "source": [
    "m = gis.map(\"San Diego\")\n",
    "m"
   ]
  },
  {
   "cell_type": "code",
   "execution_count": 306,
   "id": "b09fb238",
   "metadata": {},
   "outputs": [],
   "source": [
    "for r in out_road:\n",
    "    m.draw(r)"
   ]
  },
  {
   "cell_type": "code",
   "execution_count": 316,
   "id": "7b0528f6",
   "metadata": {},
   "outputs": [],
   "source": [
    "for s in sd_roads_sdf[sd_roads_sdf['RD20FULL'] == 'EL CAJON BL']['SHAPE']:\n",
    "    m.draw(s)"
   ]
  },
  {
   "cell_type": "code",
   "execution_count": 270,
   "id": "c963d3df",
   "metadata": {},
   "outputs": [],
   "source": [
    "for s in sd_roads_sdf[sd_roads_sdf['RD20FULL'] == '63RD ST']['SHAPE']:\n",
    "    m.draw(s)"
   ]
  },
  {
   "cell_type": "code",
   "execution_count": 276,
   "id": "efa9024c",
   "metadata": {},
   "outputs": [],
   "source": [
    "for s in sd_roads_sdf[sd_roads_sdf['RD20FULL'] == '70TH ST']['SHAPE']:\n",
    "    m.draw(s)"
   ]
  },
  {
   "cell_type": "code",
   "execution_count": 271,
   "id": "d61044d5",
   "metadata": {},
   "outputs": [],
   "source": [
    "m.draw(rd[0].iloc[0][\"SHAPE\"].buffer(1))"
   ]
  },
  {
   "cell_type": "code",
   "execution_count": 251,
   "id": "28b0a006",
   "metadata": {},
   "outputs": [],
   "source": [
    "m.draw(rd[1].iloc[0][\"SHAPE\"].buffer(1))"
   ]
  }
 ],
 "metadata": {
  "kernelspec": {
   "display_name": "Python 3",
   "language": "python",
   "name": "python3"
  },
  "language_info": {
   "codemirror_mode": {
    "name": "ipython",
    "version": 3
   },
   "file_extension": ".py",
   "mimetype": "text/x-python",
   "name": "python",
   "nbconvert_exporter": "python",
   "pygments_lexer": "ipython3",
   "version": "3.9.11"
  }
 },
 "nbformat": 4,
 "nbformat_minor": 5
}
