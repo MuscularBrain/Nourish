{
 "cells": [
  {
   "cell_type": "code",
   "execution_count": 1,
   "id": "dcf086b9",
   "metadata": {},
   "outputs": [],
   "source": [
    "from matplotlib import pyplot as plt\n",
    "import pandas as pd\n",
    "import copy\n",
    "import json\n",
    "import geopandas as gpd\n",
    "from arcgis.gis import GIS"
   ]
  },
  {
   "cell_type": "code",
   "execution_count": 2,
   "id": "28d7085f",
   "metadata": {},
   "outputs": [],
   "source": [
    "from arcgis.geoenrichment import enrich"
   ]
  },
  {
   "cell_type": "code",
   "execution_count": 3,
   "id": "fc1f54e2",
   "metadata": {},
   "outputs": [],
   "source": [
    "# init GIS connection\n",
    "with open(\"agol_account_info.txt\", \"r\") as f:\n",
    "    url, username, password = f.read().splitlines()"
   ]
  },
  {
   "cell_type": "code",
   "execution_count": 4,
   "id": "d3b802e3",
   "metadata": {},
   "outputs": [],
   "source": [
    "gis = GIS(url, username=username, password=password)"
   ]
  },
  {
   "cell_type": "code",
   "execution_count": 9,
   "id": "37a571eb",
   "metadata": {},
   "outputs": [],
   "source": [
    "sd_bgs_enriched = gis.content.get('7b2d2122d70c4d61ad86d92f77ab4fc4')"
   ]
  },
  {
   "cell_type": "code",
   "execution_count": 14,
   "id": "b418dfc4",
   "metadata": {},
   "outputs": [],
   "source": [
    "fset = sd_bgs_enriched.layers[0].query()"
   ]
  },
  {
   "cell_type": "code",
   "execution_count": 16,
   "id": "14a7862c",
   "metadata": {},
   "outputs": [],
   "source": [
    "gjson_string = fset.to_geojson"
   ]
  },
  {
   "cell_type": "code",
   "execution_count": 17,
   "id": "4bb2e160",
   "metadata": {},
   "outputs": [],
   "source": [
    "with open('sd_bgs_enriched.json', 'w') as f:\n",
    "    f.write(gjson_string)"
   ]
  },
  {
   "cell_type": "code",
   "execution_count": 19,
   "id": "ca064528",
   "metadata": {},
   "outputs": [],
   "source": [
    "sd_bgs_enriched_sdf = pd.DataFrame.spatial.from_layer(sd_bgs_enriched.layers[0])"
   ]
  },
  {
   "cell_type": "code",
   "execution_count": 22,
   "id": "c48398fc",
   "metadata": {
    "scrolled": false
   },
   "outputs": [
    {
     "data": {
      "text/plain": [
       "['AGE_10_14',\n",
       " 'AGE_15_19',\n",
       " 'AGE_20_24',\n",
       " 'AGE_25_34',\n",
       " 'AGE_35_44',\n",
       " 'AGE_45_54',\n",
       " 'AGE_55_64',\n",
       " 'AGE_5_9',\n",
       " 'AGE_65_74',\n",
       " 'AGE_75_84',\n",
       " 'AGE_85_UP',\n",
       " 'AGE_UNDER5',\n",
       " 'AMERI_ES',\n",
       " 'ASIAN',\n",
       " 'AVE_FAM_SZ',\n",
       " 'AVE_HH_SZ',\n",
       " 'BLACK',\n",
       " 'BLKGRP',\n",
       " 'CNTY_FIPS',\n",
       " 'ENRICH_FID',\n",
       " 'FAMILIES',\n",
       " 'FEMALES',\n",
       " 'FHH_CHILD',\n",
       " 'FIPS',\n",
       " 'HAWN_PI',\n",
       " 'HISPANIC',\n",
       " 'HOUSEHOLDS',\n",
       " 'HSEHLD_1_F',\n",
       " 'HSEHLD_1_M',\n",
       " 'HSE_UNITS',\n",
       " 'HasData',\n",
       " 'ID',\n",
       " 'MALES',\n",
       " 'MARHH_CHD',\n",
       " 'MARHH_NO_C',\n",
       " 'MED_AGE',\n",
       " 'MED_AGE_F',\n",
       " 'MED_AGE_M',\n",
       " 'MHH_CHILD',\n",
       " 'MULT_RACE',\n",
       " 'N01_BUS',\n",
       " 'N02_BUS',\n",
       " 'N03_BUS',\n",
       " 'N04_BUS',\n",
       " 'N05_BUS',\n",
       " 'N06_BUS',\n",
       " 'N07_BUS',\n",
       " 'N08_BUS',\n",
       " 'N09_BUS',\n",
       " 'N10_BUS',\n",
       " 'N11_BUS',\n",
       " 'N12_BUS',\n",
       " 'N13_BUS',\n",
       " 'N14_BUS',\n",
       " 'N15_BUS',\n",
       " 'N16_BUS',\n",
       " 'N17_BUS',\n",
       " 'N18_BUS',\n",
       " 'N21_BUS',\n",
       " 'N22_BUS',\n",
       " 'N23_BUS',\n",
       " 'N24_BUS',\n",
       " 'N25_BUS',\n",
       " 'N26_BUS',\n",
       " 'N27_BUS',\n",
       " 'N28_BUS',\n",
       " 'N29_BUS',\n",
       " 'N30_BUS',\n",
       " 'N31_BUS',\n",
       " 'N32_BUS',\n",
       " 'N33_BUS',\n",
       " 'N34_BUS',\n",
       " 'N35_BUS',\n",
       " 'N36_BUS',\n",
       " 'N37_BUS',\n",
       " 'N38_BUS',\n",
       " 'N39_BUS',\n",
       " 'N40_BUS',\n",
       " 'N41_BUS',\n",
       " 'OBJECTID',\n",
       " 'OBJECTID_1',\n",
       " 'OTHER',\n",
       " 'OWNER_OCC',\n",
       " 'POP10_SQMI',\n",
       " 'POP12_SQMI',\n",
       " 'POP2010',\n",
       " 'POP2012',\n",
       " 'RENTER_OCC',\n",
       " 'S01_BUS',\n",
       " 'S02_BUS',\n",
       " 'S03_BUS',\n",
       " 'S04_BUS',\n",
       " 'S05_BUS',\n",
       " 'S06_BUS',\n",
       " 'S07_BUS',\n",
       " 'S08_BUS',\n",
       " 'S09_BUS',\n",
       " 'S10_BUS',\n",
       " 'S11_BUS',\n",
       " 'S12_BUS',\n",
       " 'S13_BUS',\n",
       " 'S14_BUS',\n",
       " 'S15_BUS',\n",
       " 'S16_BUS',\n",
       " 'S17_BUS',\n",
       " 'S18_BUS',\n",
       " 'S19_BUS',\n",
       " 'S20_BUS',\n",
       " 'S21_BUS',\n",
       " 'S22_BUS',\n",
       " 'S23_BUS',\n",
       " 'S24_BUS',\n",
       " 'S25_BUS',\n",
       " 'S26_BUS',\n",
       " 'S27_BUS',\n",
       " 'S28_BUS',\n",
       " 'S29_BUS',\n",
       " 'S30_BUS',\n",
       " 'S31_BUS',\n",
       " 'S32_BUS',\n",
       " 'SHAPE',\n",
       " 'SQMI',\n",
       " 'STATE_FIPS',\n",
       " 'STCOFIPS',\n",
       " 'Shape__Are',\n",
       " 'Shape__Len',\n",
       " 'TOTPOP_CY',\n",
       " 'TRACT',\n",
       " 'VACANT',\n",
       " 'WHITE',\n",
       " 'aggregationMethod',\n",
       " 'apportionmentConfidence',\n",
       " 'populationToPolygonSizeRating',\n",
       " 'sourceCountry']"
      ]
     },
     "execution_count": 22,
     "metadata": {},
     "output_type": "execute_result"
    }
   ],
   "source": [
    "list(sd_bgs_enriched_sdf.columns)"
   ]
  },
  {
   "cell_type": "code",
   "execution_count": null,
   "id": "8fdea0de",
   "metadata": {},
   "outputs": [],
   "source": []
  }
 ],
 "metadata": {
  "kernelspec": {
   "display_name": "Python [conda env:.conda-arcgis_spatial] *",
   "language": "python",
   "name": "conda-env-.conda-arcgis_spatial-py"
  },
  "language_info": {
   "codemirror_mode": {
    "name": "ipython",
    "version": 3
   },
   "file_extension": ".py",
   "mimetype": "text/x-python",
   "name": "python",
   "nbconvert_exporter": "python",
   "pygments_lexer": "ipython3",
   "version": "3.9.11"
  }
 },
 "nbformat": 4,
 "nbformat_minor": 5
}
