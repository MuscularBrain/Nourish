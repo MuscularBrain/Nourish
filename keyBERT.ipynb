{
 "cells": [
  {
   "cell_type": "code",
   "execution_count": 1,
   "id": "137251c1",
   "metadata": {},
   "outputs": [],
   "source": [
    "text = \"on El Cajon Blvd between 63rd and 70th streets\""
   ]
  },
  {
   "cell_type": "code",
   "execution_count": 2,
   "id": "2240a88a",
   "metadata": {},
   "outputs": [],
   "source": [
    "with open(\"openai_api_key\", \"r\") as f:\n",
    "    MY_API_KEY = f.readline()"
   ]
  },
  {
   "cell_type": "code",
   "execution_count": null,
   "id": "386382f1",
   "metadata": {},
   "outputs": [],
   "source": []
  },
  {
   "cell_type": "code",
   "execution_count": 3,
   "id": "a6a85e1a",
   "metadata": {},
   "outputs": [],
   "source": [
    "import openai\n",
    "from keybert.llm import OpenAI\n",
    "from keybert import KeyLLM\n",
    "\n",
    "# Create your LLM\n",
    "client = openai.OpenAI(api_key=MY_API_KEY)\n",
    "llm = OpenAI(client)\n",
    "\n",
    "# Load it in KeyLLM\n",
    "kw_model = KeyLLM(llm)\n",
    "\n",
    "# Extract keywords\n",
    "keywords = kw_model.extract_keywords(text)"
   ]
  },
  {
   "cell_type": "code",
   "execution_count": 15,
   "id": "9439cc50",
   "metadata": {},
   "outputs": [],
   "source": [
    "\n",
    "keywords = kw_model.extract_keywords(text)"
   ]
  },
  {
   "cell_type": "code",
   "execution_count": 19,
   "id": "8f7502ec",
   "metadata": {},
   "outputs": [
    {
     "data": {
      "text/plain": [
       "[['El Cajon Blvd', '63rd street', '70th street', 'Location']]"
      ]
     },
     "execution_count": 19,
     "metadata": {},
     "output_type": "execute_result"
    }
   ],
   "source": [
    "keywords"
   ]
  },
  {
   "cell_type": "code",
   "execution_count": 5,
   "id": "d219397d",
   "metadata": {},
   "outputs": [
    {
     "name": "stdout",
     "output_type": "stream",
     "text": [
      "['on', 'El', 'Cajon', 'Blvd', 'between', '63rd', 'and', '70th', 'streets']\n",
      "['El', 'Cajon', 'Blvd', '63rd', '70th', 'streets']\n"
     ]
    }
   ],
   "source": [
    "from nltk.corpus import stopwords\n",
    "from nltk.tokenize import word_tokenize\n",
    " \n",
    " \n",
    "stop_words = set(stopwords.words('english'))\n",
    " \n",
    "word_tokens = word_tokenize(text)\n",
    "# converts the words in word_tokens to lower case and then checks whether \n",
    "#they are present in stop_words or not\n",
    "filtered_sentence = [w for w in word_tokens if not w.lower() in stop_words]\n",
    "#with no lower case conversion\n",
    "filtered_sentence = []\n",
    " \n",
    "for w in word_tokens:\n",
    "    if w not in stop_words:\n",
    "        filtered_sentence.append(w)\n",
    " \n",
    "print(word_tokens)\n",
    "print(filtered_sentence)"
   ]
  },
  {
   "cell_type": "code",
   "execution_count": 6,
   "id": "1a26f08e",
   "metadata": {},
   "outputs": [
    {
     "data": {
      "text/plain": [
       "'El Cajon Blvd 63rd 70th streets'"
      ]
     },
     "execution_count": 6,
     "metadata": {},
     "output_type": "execute_result"
    }
   ],
   "source": [
    "\" \".join(filtered_sentence)"
   ]
  },
  {
   "cell_type": "code",
   "execution_count": null,
   "id": "6983c8dd",
   "metadata": {},
   "outputs": [],
   "source": []
  }
 ],
 "metadata": {
  "kernelspec": {
   "display_name": "Python [conda env:.conda-arcgis_spatial] *",
   "language": "python",
   "name": "conda-env-.conda-arcgis_spatial-py"
  },
  "language_info": {
   "codemirror_mode": {
    "name": "ipython",
    "version": 3
   },
   "file_extension": ".py",
   "mimetype": "text/x-python",
   "name": "python",
   "nbconvert_exporter": "python",
   "pygments_lexer": "ipython3",
   "version": "3.9.11"
  }
 },
 "nbformat": 4,
 "nbformat_minor": 5
}
