{
 "cells": [
  {
   "cell_type": "markdown",
   "metadata": {},
   "source": [
    "# Lecture 6: Geoenrichment, and navigating different types of vector representation in  ArcGIS API for Python\n",
    "\n",
    "This lecture will cover:\n",
    "* Geonrichment  \n",
    "  - a key approach to engineering features for analysis\n",
    "  - understand what information available, and how to retrieve it\n",
    "  - adding features to existing named areas, and to constructed areas\n",
    "  - understand data accuracy issues\n",
    "* Navigating different type of feature data in ArcGIS  \n",
    "  - different types of feature representations, with different conversion and analysis APIs\n",
    "  - what you can do with feature data\n"
   ]
  },
  {
   "cell_type": "markdown",
   "metadata": {},
   "source": [
    "# 1. GeoEnrichment\n",
    "\n",
    "This is a key capability you can use in your data science projects. It helps you to get facts about a specific area. The area can be defined by administrative boundaries, or be a result of gemoetric operations such as distance buffer or drive time from a location. Available facts are stored in multiple datasets and reflect population, income, housing, consumer behavior, and the natural environment. Much of the remainder of this notebook is based on arcgis-python-api-master/guide/12-enrich-data-with-thematic-information/performing-geoenrichment.ipynb\n",
    "\n",
    "The main method is enrich(): it retrieves info for the specified area.\n",
    "The arcgis.geoenrichment module ca help you create geometries to which enrich() can be later applied.\n",
    "\n",
    "Examples: wildfire analyst generates a map of the dynamics and extent of forect fires: you need to quickly determine who lives there and what their mobility charatceristics are. A company is looking for a location of a new store: you need to determine who lives in the vicinity and what they normally buy."
   ]
  },
  {
   "cell_type": "code",
   "execution_count": null,
   "metadata": {},
   "outputs": [],
   "source": [
    "import arcgis\n",
    "from arcgis.gis import GIS\n",
    "from arcgis import geometry\n",
    "from arcgis.features import GeoAccessor, GeoSeriesAccessor\n",
    "from arcgis.geoenrichment import *\n",
    "import pandas as pd\n",
    "\n",
    "gis = GIS(username='izaslavsky_ucsd')  # this will ask for password. \n",
    "arcgis.__version__"
   ]
  },
  {
   "cell_type": "markdown",
   "metadata": {},
   "source": [
    "### 1.1 What information is available for your country of interest?"
   ]
  },
  {
   "cell_type": "code",
   "execution_count": null,
   "metadata": {},
   "outputs": [],
   "source": [
    "countries = get_countries()\n",
    "print(\"Number of countries for which GeoEnrichment data is available: \" + str(len(countries)))\n",
    "\n",
    "#print a few countries for a sample\n",
    "countries[0:10]"
   ]
  },
  {
   "cell_type": "code",
   "execution_count": null,
   "metadata": {},
   "outputs": [],
   "source": [
    "# What is available for the US?\n",
    "\n",
    "usa = Country.get('US')\n",
    "usa.properties.datasets"
   ]
  },
  {
   "cell_type": "markdown",
   "metadata": {},
   "source": [
    "### 1.2 Geoenrichment integrates data from many databases:\n",
    "\n",
    "* ACS: American Community Survey (https://www.census.gov/programs-surveys/acs, https://doc.arcgis.com/en/esri-demographics/data/acs.htm, http://suave2.sdsc.edu/gallery/sdhhsa)\n",
    "* ASR: Age, Sex, Race (https://www.census.gov/newsroom/press-kits/2020/population-estimates-detailed.html)\n",
    "* CRM: Crimes (https://doc.arcgis.com/en/esri-demographics/data/crime-indexes.htm)\n",
    "* RMP: Retail MarketPlace (https://doc.arcgis.com/en/esri-demographics/data/retail-marketplace.htm)"
   ]
  },
  {
   "cell_type": "code",
   "execution_count": null,
   "metadata": {},
   "outputs": [],
   "source": [
    "# Listing  specific data collections\n",
    "\n",
    "df = usa.data_collections\n",
    "print(df.index.unique().values)"
   ]
  },
  {
   "cell_type": "code",
   "execution_count": null,
   "metadata": {},
   "outputs": [],
   "source": [
    "# A data collection is a preassembled list of attributes that will be used to enrich the input features. \n",
    "# Collection attributes can describe various types of information, \n",
    "# such as demographic characteristics and geographic context of the locations or areas submitted as input features.\n",
    "\n",
    "df = usa.data_collections\n",
    "print(df.shape) # total number of collections\n",
    "df.head()     # returns a pandas DF with specific measured variables\n"
   ]
  },
  {
   "cell_type": "code",
   "execution_count": null,
   "metadata": {},
   "outputs": [],
   "source": [
    "# GeoEnrichment also enables you to create many types of high quality reports \n",
    "# for a variety of use cases describing the input area.\n",
    "\n",
    "# print a sample of the reports available for USA\n",
    "usa.reports.head(10)"
   ]
  },
  {
   "cell_type": "code",
   "execution_count": null,
   "metadata": {},
   "outputs": [],
   "source": [
    "# Discover named geographies and level of detail\n",
    "\n",
    "sandiego_in_usa = usa.search('San Diego')\n",
    "print(\"number of San Diego's in the US: \" + str(len(sandiego_in_usa)))\n",
    "\n",
    "# list a few of them\n",
    "sandiego_in_usa[:10]"
   ]
  },
  {
   "cell_type": "code",
   "execution_count": null,
   "metadata": {},
   "outputs": [],
   "source": [
    "# let's put them on a map\n",
    "usamap = gis.map('United States', zoomlevel=4)\n",
    "usamap"
   ]
  },
  {
   "cell_type": "code",
   "execution_count": null,
   "metadata": {},
   "outputs": [],
   "source": [
    "for sd in sandiego_in_usa:\n",
    "    usamap.draw(sd.geometry)"
   ]
  },
  {
   "cell_type": "markdown",
   "metadata": {},
   "source": [
    "### 1.3 Working with study areas\n",
    "\n",
    "GeoEnrichment uses the concept of a study area to define the location of the point or area that you want to enrich with additional information or create reports about.\n",
    "\n",
    "#### Accepted forms of study areas\n",
    "\n",
    "- **Street address locations** - Locations can be passed as strings of input street addresses, points of interest or place names.\n",
    "    + **Example:** `\"380 New York St, Redlands, CA\"`\n",
    "\n",
    "- **Multiple field input addresses** - Locations described as multiple field input addresses, using dictionaries.\n",
    "    + **Example:** \n",
    "        {\"Address\" : \"380 New York Street\",\n",
    "        \"City\" : \"Redlands\",\n",
    "        \"Region\" : \"CA\",\n",
    "        \"Postal\" : 92373}    \n",
    " \n",
    "- **Point and line geometries** - Point and line locations, using `arcgis.geometry` instances.\n",
    "    + **Example Point Location: ** \n",
    "    \n",
    "    `arcgis.geometry.Geometry({\"x\":-122.435,\"y\":37.785})`\n",
    "\n",
    "- **Buffered study areas** - `BufferStudyArea` instances to change the ring buffer size or create drive-time service areas around points specified using one of the above methods. BufferStudyArea allows you to buffer point and street address study areas. They can be created using the following parameters:\n",
    "        * area: the point geometry or street address (string) study area to be buffered\n",
    "        * radii: list of distances by which to buffer the study area, eg. [1, 2, 3]\n",
    "        * units: distance unit, eg. Miles, Kilometers, Minutes (when using drive times/travel_mode)\n",
    "        * overlap: boolean, uses overlapping rings/network service areas when True, or non-overlapping disks when False\n",
    "        * travel_mode: None or string, one of the supported travel modes when using network service areas\n",
    "    + **Example Buffered Location: ** \n",
    "    \n",
    "    `pt = arcgis.geometry.Geometry({\"x\":-122.435,\"y\":37.785})\n",
    "    buffered_area = BufferStudyArea(area=pt, radii=[1,2,3], units=\"Miles\", overlap=False)` \n",
    "\n",
    "- **Network service areas** - `BufferStudyArea` also allows you to define drive time service areas around points as well as other advanced service areas such as walking and trucking.\n",
    "    + **Example: **\n",
    "    \n",
    "    `pt = arcgis.geometry.Geometry({\"x\":-122.435,\"y\":37.785})\n",
    "    buffered_area = BufferStudyArea(area=pt, radii=[1,2,3], units=\"Minutes\", travel_mode=\"Driving\")` \n",
    "\n",
    "- **Named statistical areas** - In all previous examples of different study area types, locations were defined as either points or polygons. Study area locations can also be passed as one or many named statistical areas. This form of study area lets you define an area as a standard geographic statistical feature, such as a census or postal area, for example, to obtain enrichment information for a U.S. state, county, or ZIP Code or a Canadian province or postal code. When the NamedArea instances should be combined together (union), a list of such NamedArea instances should constitute a study area in the list of requested study areas.\n",
    "    + **Example:** \n",
    "    \n",
    "    `usa.subgeographies.states['California'].zip5['92373']`\n",
    "   \n",
    "- **Polygon geometries** - Locations can given as polygon geometries.\n",
    "    + **Example Polygon geometry: ** \n",
    "    \n",
    "    `arcgis.geometry.Geometry({\"rings\":[[[-117.185412,34.063170],[-122.81,37.81],[-117.200570,34.057196],[-117.185412,34.063170]]],\"spatialReference\":{\"wkid\":4326}})`\n"
   ]
  },
  {
   "cell_type": "markdown",
   "metadata": {},
   "source": [
    "### 1.4 Creating Reports\n",
    "The `create_report` method allows you to create many types of high quality reports for a variety of use cases describing the input area. If a point is used as a study area, the service will create a `1` mile ring buffer around the point to collect and append enrichment data. Optionally, you can create a buffer ring or drive time service area around points of interest to generate PDF or Excel reports containing relevant information for the area on demographics, consumer spending, tapestry market, etc.\n",
    "\n",
    "To find the list of reports available, refer to the section [Available reports](#Available-reports) earlier in this page."
   ]
  },
  {
   "cell_type": "code",
   "execution_count": null,
   "metadata": {},
   "outputs": [],
   "source": [
    "# for zip code 92093\n",
    "report = create_report(study_areas=[\"92093\"],\n",
    "                     report=\"tapestry_profileNEW\",\n",
    "                     export_format=\"PDF\", \n",
    "                     out_folder=r\"/datasets/dsc170sp19-public\", out_name=\"esri_tapestry_profile.pdf\")\n",
    "report"
   ]
  },
  {
   "cell_type": "code",
   "execution_count": null,
   "metadata": {},
   "outputs": [],
   "source": [
    "# You can add this to AGOL!\n",
    "report_path = \"/datasets/dsc170sp19-public/esri_tapestry_profile.pdf\"\n",
    "\n",
    "# Need to give it a unique title, and some parameters. \n",
    "\n",
    "report_properties = {'title':'92093 Tapestry Profile PDF', 'type':'PDF', 'tags':'92093, tapestry'}\n",
    "report_item = gis.content.add(item_properties = report_properties, data=report_path)\n"
   ]
  },
  {
   "cell_type": "code",
   "execution_count": null,
   "metadata": {},
   "outputs": [],
   "source": [
    "# for zip code 92037\n",
    "report = create_report(study_areas=[\"92037\"],\n",
    "                     report=\"tapestry_profileNEW\",\n",
    "                     export_format=\"XLSX\", \n",
    "                     out_folder=r\"/datasets/dsc170sp19-public\", out_name=\"esri_tapestry_profile_92037.xlsx\")\n",
    "report"
   ]
  },
  {
   "cell_type": "code",
   "execution_count": null,
   "metadata": {},
   "outputs": [],
   "source": [
    "report_path = \"/datasets/dsc170sp19-public/esri_tapestry_profile_92037.xlsx\"\n",
    "\n",
    "# Need to give it a unique title, and some parameters. \n",
    "\n",
    "report_properties = {'title':'92037 Tapestry Profile XLSX', 'type':'Microsoft Excel', 'tags':'92037, tapestry'}\n",
    "report_item = gis.content.add(item_properties = report_properties, data=report_path)\n",
    "\n",
    "# note that format names may be inconsistent across operations. \n",
    "# See https://developers.arcgis.com/rest/users-groups-and-items/items-and-item-types.htm\n",
    "# for types of items in AGOL\n"
   ]
  },
  {
   "cell_type": "markdown",
   "metadata": {},
   "source": [
    "### Try it yourself!\n",
    "\n",
    "### 1.5 Geoenrichment: adding features to a named study area"
   ]
  },
  {
   "cell_type": "code",
   "execution_count": null,
   "metadata": {
    "scrolled": true
   },
   "outputs": [],
   "source": [
    "# let's try it for a 1-mile buffer around Scripps Medical Center:\n",
    "enrich(study_areas=[\"Scripps Medical Center\"], data_collections=['Age'])\n"
   ]
  },
  {
   "cell_type": "code",
   "execution_count": null,
   "metadata": {},
   "outputs": [],
   "source": [
    "# or for a named study area \"San Diego, CA:\"\n",
    "\n",
    "enrich(study_areas=[\"San Diego, CA\"], data_collections=['Transportation'])"
   ]
  },
  {
   "cell_type": "code",
   "execution_count": null,
   "metadata": {},
   "outputs": [],
   "source": [
    "# let's figure out what variables we obtained in this way:\n",
    "df = usa.data_collections\n",
    "df[df.index.values == \"transportation\"]"
   ]
  },
  {
   "cell_type": "markdown",
   "metadata": {},
   "source": [
    "### 1.6 Example: Buffering locations using non overlapping disks (adding features to a constructed study area)\n",
    "\n",
    "The example below creates non-overlapping disks of radii 1, 3 and 5 Miles respectively from a street address and enriches these using the 'Age' data collection."
   ]
  },
  {
   "cell_type": "code",
   "execution_count": null,
   "metadata": {},
   "outputs": [],
   "source": [
    "buffered = BufferStudyArea(area='UCSD',\n",
    "                           radii=[1,3,5], units='Miles', overlap=False)\n",
    "enrich(study_areas=[buffered], data_collections=['Age'])"
   ]
  },
  {
   "cell_type": "code",
   "execution_count": null,
   "metadata": {},
   "outputs": [],
   "source": [
    "# Alternatively, we can use drive time buffers as study areas.\n",
    "# Create 5, 10, 15, 20 and 25 minute drive times from a location and enrich these using the 'Age' data collection.\n",
    "buffered = BufferStudyArea(area='700 Prospect Street, La Jolla, CA', \n",
    "                           radii=[5, 10, 15, 20, 25], units='Minutes', \n",
    "                           travel_mode='Driving')\n",
    "buffered"
   ]
  },
  {
   "cell_type": "code",
   "execution_count": null,
   "metadata": {},
   "outputs": [],
   "source": [
    "# let's enrich these buffers, and explore the content \n",
    "drive_time_df = enrich(study_areas=[buffered], data_collections=['Age'])\n",
    "drive_time_df"
   ]
  },
  {
   "cell_type": "code",
   "execution_count": null,
   "metadata": {},
   "outputs": [],
   "source": [
    "# now, we'll show it on a map and then create a feature layer in AGOL:\n",
    "\n",
    "# Step 1: create a Spatially-Enabled DataFrame (SEDF) with the enriched data\n",
    "\n",
    "drive_time_sedf = drive_time_df.spatial\n"
   ]
  },
  {
   "cell_type": "code",
   "execution_count": null,
   "metadata": {},
   "outputs": [],
   "source": [
    "# spatial objects here are polygons, let's make sure:\n",
    "\n",
    "drive_time_sedf.geometry_type"
   ]
  },
  {
   "cell_type": "code",
   "execution_count": null,
   "metadata": {},
   "outputs": [],
   "source": [
    "# Step 2: show these drive-time buffers on a map\n",
    "map4 = gis.map('700 Prospect Street, La Jolla, CA')\n",
    "map4.zoom = 11\n",
    "map4"
   ]
  },
  {
   "cell_type": "code",
   "execution_count": null,
   "metadata": {},
   "outputs": [],
   "source": [
    "# Step 3: now, add the layer of drive time zones (a featureset built from the SEDF), to the map:\n",
    "map4.draw(drive_time_sedf.to_featureset()) "
   ]
  },
  {
   "cell_type": "code",
   "execution_count": null,
   "metadata": {},
   "outputs": [],
   "source": [
    "# SEDF has a \"GeoAccessor\" type\n",
    "type(drive_time_sedf)"
   ]
  },
  {
   "cell_type": "code",
   "execution_count": null,
   "metadata": {},
   "outputs": [],
   "source": [
    "# Step 4: now we can save it as a feature layer, and publish on AGOL\n",
    "drivetime_lj_fl= drive_time_sedf.to_featurelayer(title='drive_from_art_museum', gis=gis, tags='sample')"
   ]
  },
  {
   "cell_type": "markdown",
   "metadata": {},
   "source": [
    "### 1.7 How accurate are the numbers returned for such constructed polygons?\n",
    "\n",
    "**ApportionmentConfidence** depends on three factors: \n",
    "\n",
    "1. **Reliability of the original census data**, on a 1-5 scale, based on \n",
    "    1. Census type: from 1 (Census - de jure - Complete Tabulation), to 5 - Sample Survey -de facto\n",
    "    1. Census completeness: from 1 (final figure) to 4 (provisional figure with questionable reliability_\n",
    "    1. Age of Censis: from 1 (1-2 years) to 5 (9-10 years)\n",
    "1. **Ratio of the population polygon to the number of people** (1.0 - 5.0 scale) (populationToPolygonSizeRating)\n",
    "    1. The larger the area of a census tabulation area, the less likely the specific locations where people live can reliably be found. For large areas with relatively low populations, this means the likelihood of correctly locating where those people live is even lower. \n",
    "1. **Complexity of settlement footprint relative to NoData and zero population cells** (1.0 to 5.0)\n",
    "    1. Based on Landsat8 panchromatic imagery (15m resolution). When levels of texture are sufficiently high, the likelihood that it represents human settlement is high. However, because this model is largely completed using raster data, underestimation of the footprint edges occur due to resampling. The amount of area is proportional to the complexity of the (raster) human settlement footprint. Complexity is measured as the sum of distances from a given cell to all NoData cells within 8 kilometers (this figure is then scaled to 1.0 to 5.0).\n",
    "    \n",
    "Problem is when study area spans more than one country. Then both populationToPolygonSizeRating and ApportionmentConfidence are NULL.\n",
    "\n",
    "More about Data Apportionment see https://developers.arcgis.com/rest/geoenrichment/api-reference/data-apportionment.htm\n"
   ]
  },
  {
   "cell_type": "markdown",
   "metadata": {},
   "source": [
    "\n",
    "\n",
    "# 2. Organizing spatial data for analysis\n",
    "1. Feature layers, feature sets, feature collections, and more...\n",
    "2. What you can do with them\n",
    "\n",
    "\n",
    "### 2.1 Feature Layers, Feature Collections, Feature Sets, Feature Services... \n",
    "\n",
    "Terminology may be daunting...\n",
    "\n",
    "The __feature layer__ is the primary concept for working with features in a GIS. Users create, import, export, analyze, edit, and visualize features, i.e. “entities in space” as feature layers.\n",
    "\n",
    "Feature layers can be added to and visualized using maps. They act as inputs to and outputs from feature analysis tools.\n",
    "\n",
    "Feature layers are created by publishing feature data to a GIS, and are exposed as a broader resource (Item) in the GIS. \n",
    "__Feature layer instances__ can be obtained through the layers attribute on feature layer collection Items in the GIS. A __feature layer collection__ is a collection of feature layers and tables, with the associated relationships among the entities. A feature layer collection is backed by a [feature service](http://server.arcgis.com/en/server/latest/publish-services/windows/what-is-a-feature-service-.htm) in a web GIS.\n",
    "\n"
   ]
  },
  {
   "cell_type": "code",
   "execution_count": null,
   "metadata": {},
   "outputs": [],
   "source": [
    "# let's find some feature layer and explore it. \n",
    "# Note that \"feature layer collection\" can be \"a group feature layer\":\n",
    "# these may include layers at different levels of resolutions, shown with different symbols, etc.\n",
    "\n",
    "# Search for 'USA major cities' feature layer collection\n",
    "search_results = gis.content.search('title: USA Freeway System',\n",
    "                                    'Feature Layer', outside_org=True)\n",
    "\n",
    "# Access the first Item that's returned\n",
    "freeways = search_results[0]\n",
    "\n",
    "freeways\n"
   ]
  },
  {
   "cell_type": "code",
   "execution_count": null,
   "metadata": {},
   "outputs": [],
   "source": [
    "# this is a \"feature layer collection\" - so we can access individual layers via the layers property:\n",
    "freeways.layers \n"
   ]
  },
  {
   "cell_type": "code",
   "execution_count": null,
   "metadata": {},
   "outputs": [],
   "source": [
    "# There are two layers here! Why?\n",
    "#\n",
    "#\n",
    "#\n",
    "#   YOUR THOUGHTS?\n",
    "#\n",
    "\n",
    "for lyr in freeways.layers:\n",
    "    print(lyr.properties.name)"
   ]
  },
  {
   "cell_type": "code",
   "execution_count": null,
   "metadata": {},
   "outputs": [],
   "source": [
    "# when you open the service, you can see its ID, in this case it is 91c6a5f6410b4991ab0db1d7c26daacb\n",
    "# you can always refer to it by ID, so that not to do search each time:\n",
    "freeways = gis.content.get('91c6a5f6410b4991ab0db1d7c26daacb')\n",
    "freeways"
   ]
  },
  {
   "cell_type": "code",
   "execution_count": null,
   "metadata": {},
   "outputs": [],
   "source": [
    "# Now, let's look at an example of a __feature service__\n",
    "\n",
    "# Feature Service: serves a collection of feature layers and tables, \n",
    "# with the associated relationships among the entities. \n",
    "# here is an example:\n",
    "\n",
    "from arcgis.features import FeatureLayerCollection\n",
    "fs_url= 'https://services1.arcgis.com/eGSDp8lpKe5izqVc/arcgis/rest/services/Brewery_Locations_in_San_Diego_WFL1/FeatureServer'\n",
    "breweries = FeatureLayerCollection(fs_url)"
   ]
  },
  {
   "cell_type": "code",
   "execution_count": null,
   "metadata": {},
   "outputs": [],
   "source": [
    "breweries.layers # shows layers in the service"
   ]
  },
  {
   "cell_type": "code",
   "execution_count": null,
   "metadata": {},
   "outputs": [],
   "source": [
    "breweries.tables # shows tables in the service"
   ]
  },
  {
   "cell_type": "code",
   "execution_count": null,
   "metadata": {},
   "outputs": [],
   "source": [
    "# we can also look at properties of each layer or table\n",
    "breweries.layers[0].properties"
   ]
  },
  {
   "cell_type": "code",
   "execution_count": null,
   "metadata": {},
   "outputs": [],
   "source": [
    "# it can also show what operations are possible over this layer:\n",
    "\n",
    "print(breweries.layers[0].properties.capabilities) \n",
    "\n",
    "# or how it is to be rendered:\n",
    "\n",
    "print(breweries.layers[0].properties.drawingInfo.renderer.type) \n"
   ]
  },
  {
   "cell_type": "code",
   "execution_count": null,
   "metadata": {},
   "outputs": [],
   "source": [
    "# we cna explore the same from AGOL UI:\n",
    "comm_points = gis.content.get('e435c0dd31c3447db9503272edf7abf0')\n",
    "comm_points"
   ]
  },
  {
   "cell_type": "code",
   "execution_count": null,
   "metadata": {},
   "outputs": [],
   "source": [
    "# Let's return to the Freeways layer and see what we can do with it\n",
    "\n",
    "for f in freeways.layers[0].properties.fields:\n",
    "    print(f['name'])\n",
    "\n"
   ]
  },
  {
   "cell_type": "code",
   "execution_count": null,
   "metadata": {},
   "outputs": [],
   "source": [
    "type(freeways.layers[0])"
   ]
  },
  {
   "cell_type": "code",
   "execution_count": null,
   "metadata": {},
   "outputs": [],
   "source": [
    "# How can we determine CRS of a layer (called \"spatial_reference\"). \n",
    "\n",
    "# By converting it to a featureset - using query() without parameters -  and then retrieving its spatial reference\n",
    "# note that \"spatial reference\" is a property of a featureset, but not of a layer\n",
    "\n",
    "query_result1 = freeways.layers[0].query()\n",
    "type(query_result1)"
   ]
  },
  {
   "cell_type": "code",
   "execution_count": null,
   "metadata": {},
   "outputs": [],
   "source": [
    "query_result1.spatial_reference\n",
    "\n",
    "# see more about spatial reference at https://developers.arcgis.com/web-map-specification/objects/spatialReference/\n",
    "# latestWkid:: the current Well-Known ID\n",
    "# wkid:: wkid originally assigned to geometry objects\n"
   ]
  },
  {
   "cell_type": "markdown",
   "metadata": {},
   "source": [
    "### 2.2 Review: how the feature module is organized\n",
    "\n",
    "<img src=\"http://esri.github.io/arcgis-python-api/notebooks/nbimages/guide_features_01.png\">\n",
    "\n",
    "Note the role of \"query()\" to get from  layers and layer collections to featuresets and individual features"
   ]
  },
  {
   "cell_type": "markdown",
   "metadata": {},
   "source": [
    "### 2.3 What can you do with feature layers?\n"
   ]
  },
  {
   "cell_type": "code",
   "execution_count": null,
   "metadata": {},
   "outputs": [],
   "source": [
    "# can you plot it with freeways.plot() - how we did it with SEDF ?\n",
    "\n",
    "# No, but you can add the layer to a map widget:\n",
    "    \n",
    "m = gis.map(\"USA\",4)\n",
    "m.add_layer(freeways)\n",
    "m\n",
    "\n"
   ]
  },
  {
   "cell_type": "code",
   "execution_count": null,
   "metadata": {},
   "outputs": [],
   "source": [
    "# alternatively, it can be converted to a spatially-enabled dataframe\n",
    "# and then plotted using its SHAPE column\n",
    "\n",
    "import pandas as pd\n",
    "fw_sdf = pd.DataFrame.spatial.from_layer(freeways.layers[0])\n"
   ]
  },
  {
   "cell_type": "code",
   "execution_count": null,
   "metadata": {},
   "outputs": [],
   "source": [
    "%matplotlib inline\n",
    "fw_sdf.plot()   # not too useful"
   ]
  },
  {
   "cell_type": "code",
   "execution_count": null,
   "metadata": {},
   "outputs": [],
   "source": [
    "m = gis.map(\"USA\", 4)\n",
    "m\n"
   ]
  },
  {
   "cell_type": "code",
   "execution_count": null,
   "metadata": {},
   "outputs": [],
   "source": [
    "# here is the simplest way to add a SEDF to a map\n",
    "fw_sdf.spatial.plot(map_widget=m)\n",
    "\n",
    "# But there is a caveat! Only so many vector features can be drawn in a map widget!"
   ]
  },
  {
   "cell_type": "code",
   "execution_count": null,
   "metadata": {},
   "outputs": [],
   "source": [
    "# yet another way to draw, using a specified symbol. Let's find Hyway 101 by clicking it on the map. \n",
    "# Note the ID of this feature\n",
    "\n",
    "hw101_geom = fw_sdf.iloc[674]['SHAPE']\n",
    "sym_poly = {\n",
    "  \"type\": \"esriSFS\",\n",
    "  \"style\": \"esriSFSSolid\",\n",
    "  \"color\": [0,0,0,0],  # hollow, no fill\n",
    "    \"outline\": {\n",
    "     \"type\": \"esriSLS\",\n",
    "     \"style\": \"esriSLSSolid\",\n",
    "     \"color\": [255,0,0,255],  # red line\n",
    "     \"width\": 3}\n",
    "}\n",
    "\n",
    "m.draw(shape = hw101_geom, symbol = sym_poly)\n",
    "\n",
    "# Note that the ID is '675' but we use 'iloc[674]' !!\n"
   ]
  },
  {
   "cell_type": "code",
   "execution_count": null,
   "metadata": {},
   "outputs": [],
   "source": [
    "# You can transition from  SEDF to Feature Layers (if it is clean...)\n",
    "\n",
    "my_fl = fw_sdf.spatial.to_featurelayer(title=\"my sample fl\", gis=gis, tags='sample')\n",
    "\n",
    "# \n",
    "# \n",
    "# \n",
    "# \n",
    "# \n",
    "# \n",
    "# \n",
    "# \n",
    "# \n",
    "# \n",
    "# \n",
    "# \n",
    "# where can we find this layer???  Your thoughts?\n",
    "\n"
   ]
  },
  {
   "cell_type": "code",
   "execution_count": null,
   "metadata": {},
   "outputs": [],
   "source": [
    "my_fl"
   ]
  },
  {
   "cell_type": "code",
   "execution_count": null,
   "metadata": {},
   "outputs": [],
   "source": [
    "# Let's experiment with SEDF and feature layers, and with transformations between them \n",
    "# (that was a bug in SEDF discovered by the eaelier DSC170 class, later fixed 1.8.x)"
   ]
  }
 ],
 "metadata": {
  "kernelspec": {
   "display_name": "Python 3",
   "language": "python",
   "name": "python3"
  },
  "language_info": {
   "codemirror_mode": {
    "name": "ipython",
    "version": 3
   },
   "file_extension": ".py",
   "mimetype": "text/x-python",
   "name": "python",
   "nbconvert_exporter": "python",
   "pygments_lexer": "ipython3",
   "version": "3.7.6"
  }
 },
 "nbformat": 4,
 "nbformat_minor": 2
}
